{
  "nbformat": 4,
  "nbformat_minor": 0,
  "metadata": {
    "colab": {
      "provenance": []
    },
    "kernelspec": {
      "name": "python3",
      "display_name": "Python 3"
    },
    "language_info": {
      "name": "python"
    }
  },
  "cells": [
    {
      "cell_type": "code",
      "execution_count": null,
      "metadata": {
        "colab": {
          "base_uri": "https://localhost:8080/"
        },
        "id": "zGQeL6DdZeAm",
        "outputId": "844b3e55-f8a0-4f5a-abc3-0846d952c497"
      },
      "outputs": [
        {
          "output_type": "execute_result",
          "data": {
            "text/plain": [
              "list"
            ]
          },
          "metadata": {},
          "execution_count": 3
        }
      ],
      "source": [
        "''' data structure\n",
        "1) What are data structures, and why are they important ?\n",
        ">>>Data structure  is a way of organizing and storing the data in \"list , tuples, sets, string, dictionary as it can be accessed easily and manipulate efficiently.\n",
        "\n",
        "2)  Explain the difference between mutable and immutable data types with examples.\n",
        ">>after the creation of program  can modify that's called as mutalbe and program can't modify after creation called as immutable\n",
        " examples :\n",
        " Mutalbe :-'''\n",
        "Grocery = [\"sugar\",\"peanuts\",\"soyabian\",\"Coffee\",\"Paneer\"]\n",
        "type(Grocery)\n"
      ]
    },
    {
      "cell_type": "code",
      "source": [
        "Grocery[1] = \" SOYA\""
      ],
      "metadata": {
        "id": "NDE75UECevGY"
      },
      "execution_count": null,
      "outputs": []
    },
    {
      "cell_type": "code",
      "source": [
        "Grocery"
      ],
      "metadata": {
        "colab": {
          "base_uri": "https://localhost:8080/"
        },
        "id": "3Eay7o9BfK3_",
        "outputId": "852697d9-cfb4-4773-dd0f-3e35dfe9f636"
      },
      "execution_count": null,
      "outputs": [
        {
          "output_type": "execute_result",
          "data": {
            "text/plain": [
              "['sugar', ' SOYA', 'soyabian', 'Coffee', 'Paneer']"
            ]
          },
          "metadata": {},
          "execution_count": 5
        }
      ]
    },
    {
      "cell_type": "code",
      "source": [
        "Lis = [1,2,3,4,\"samir\",[1.2,3.5,\"true\"],{\"santosh\": 1234}]"
      ],
      "metadata": {
        "id": "WOqb2GFMfMvF"
      },
      "execution_count": null,
      "outputs": []
    },
    {
      "cell_type": "code",
      "source": [
        "Lis[-1][\"santosh\"] = \"samair\""
      ],
      "metadata": {
        "id": "d_YI7kRDfhne"
      },
      "execution_count": null,
      "outputs": []
    },
    {
      "cell_type": "code",
      "source": [
        "Lis"
      ],
      "metadata": {
        "colab": {
          "base_uri": "https://localhost:8080/"
        },
        "id": "fvg_FkvngYr4",
        "outputId": "2d442eef-5a1d-487a-c413-d747b6fda627"
      },
      "execution_count": null,
      "outputs": [
        {
          "output_type": "execute_result",
          "data": {
            "text/plain": [
              "[1, 2, 3, 4, 'samir', [1.2, 3.5, 'true'], {'santosh': 'samair'}]"
            ]
          },
          "metadata": {},
          "execution_count": 15
        }
      ]
    },
    {
      "cell_type": "code",
      "source": [
        "## immutable\n",
        "Groc = ('sugar', ' SOYA', 'soyabian', 'Coffee', 'Paneer')\n",
        "\n",
        "Groc[1]  = \"Nutes\""
      ],
      "metadata": {
        "colab": {
          "base_uri": "https://localhost:8080/",
          "height": 176
        },
        "id": "irVmCW3ggti5",
        "outputId": "dd1294a8-16dc-4a0a-8e00-f2fd152bf168"
      },
      "execution_count": null,
      "outputs": [
        {
          "output_type": "error",
          "ename": "TypeError",
          "evalue": "'tuple' object does not support item assignment",
          "traceback": [
            "\u001b[0;31m---------------------------------------------------------------------------\u001b[0m",
            "\u001b[0;31mTypeError\u001b[0m                                 Traceback (most recent call last)",
            "\u001b[0;32m<ipython-input-18-fbea607db9fa>\u001b[0m in \u001b[0;36m<cell line: 4>\u001b[0;34m()\u001b[0m\n\u001b[1;32m      2\u001b[0m \u001b[0mGroc\u001b[0m \u001b[0;34m=\u001b[0m \u001b[0;34m(\u001b[0m\u001b[0;34m'sugar'\u001b[0m\u001b[0;34m,\u001b[0m \u001b[0;34m' SOYA'\u001b[0m\u001b[0;34m,\u001b[0m \u001b[0;34m'soyabian'\u001b[0m\u001b[0;34m,\u001b[0m \u001b[0;34m'Coffee'\u001b[0m\u001b[0;34m,\u001b[0m \u001b[0;34m'Paneer'\u001b[0m\u001b[0;34m)\u001b[0m\u001b[0;34m\u001b[0m\u001b[0;34m\u001b[0m\u001b[0m\n\u001b[1;32m      3\u001b[0m \u001b[0;34m\u001b[0m\u001b[0m\n\u001b[0;32m----> 4\u001b[0;31m \u001b[0mGroc\u001b[0m\u001b[0;34m[\u001b[0m\u001b[0;36m1\u001b[0m\u001b[0;34m]\u001b[0m  \u001b[0;34m=\u001b[0m \u001b[0;34m\"Nutes\"\u001b[0m\u001b[0;34m\u001b[0m\u001b[0;34m\u001b[0m\u001b[0m\n\u001b[0m",
            "\u001b[0;31mTypeError\u001b[0m: 'tuple' object does not support item assignment"
          ]
        }
      ]
    },
    {
      "cell_type": "code",
      "source": [
        "Lis = (1,2,3,4,\"samir\",1.3,\"true\")"
      ],
      "metadata": {
        "id": "Fdbc0plDhOXw"
      },
      "execution_count": null,
      "outputs": []
    },
    {
      "cell_type": "code",
      "source": [
        "type (Lis)"
      ],
      "metadata": {
        "colab": {
          "base_uri": "https://localhost:8080/"
        },
        "id": "pcOJcwvVhpKj",
        "outputId": "39047800-1b32-4b64-c4f0-6eb360b56931"
      },
      "execution_count": null,
      "outputs": [
        {
          "output_type": "execute_result",
          "data": {
            "text/plain": [
              "tuple"
            ]
          },
          "metadata": {},
          "execution_count": 33
        }
      ]
    },
    {
      "cell_type": "code",
      "source": [
        "Lis[-1] = \"samir\""
      ],
      "metadata": {
        "colab": {
          "base_uri": "https://localhost:8080/",
          "height": 141
        },
        "id": "O98FjBDdiDJn",
        "outputId": "0ef55236-efe9-40f8-b313-aabc57d5ab85"
      },
      "execution_count": null,
      "outputs": [
        {
          "output_type": "error",
          "ename": "TypeError",
          "evalue": "'tuple' object does not support item assignment",
          "traceback": [
            "\u001b[0;31m---------------------------------------------------------------------------\u001b[0m",
            "\u001b[0;31mTypeError\u001b[0m                                 Traceback (most recent call last)",
            "\u001b[0;32m<ipython-input-38-a4531a7a67d9>\u001b[0m in \u001b[0;36m<cell line: 1>\u001b[0;34m()\u001b[0m\n\u001b[0;32m----> 1\u001b[0;31m \u001b[0mLis\u001b[0m\u001b[0;34m[\u001b[0m\u001b[0;34m-\u001b[0m\u001b[0;36m1\u001b[0m\u001b[0;34m]\u001b[0m \u001b[0;34m=\u001b[0m \u001b[0;34m\"samir\"\u001b[0m\u001b[0;34m\u001b[0m\u001b[0;34m\u001b[0m\u001b[0m\n\u001b[0m",
            "\u001b[0;31mTypeError\u001b[0m: 'tuple' object does not support item assignment"
          ]
        }
      ]
    },
    {
      "cell_type": "code",
      "source": [
        "Lis"
      ],
      "metadata": {
        "colab": {
          "base_uri": "https://localhost:8080/"
        },
        "id": "4pusqWJ9iLBX",
        "outputId": "f341bbac-8e26-476d-fdb9-fe28b89ad4be"
      },
      "execution_count": null,
      "outputs": [
        {
          "output_type": "execute_result",
          "data": {
            "text/plain": [
              "(1, 2, 3, 4, 'samir', 1.3, 'true')"
            ]
          },
          "metadata": {},
          "execution_count": 39
        }
      ]
    },
    {
      "cell_type": "code",
      "source": [
        "''' 3)What are the main differences between lists and tuples in Python\n",
        ">>> lists are mutable and tuples are immutable\n",
        " after creation list can modify but tuple can't modify\n",
        "\n",
        "  4) Describe how dictionaries store data\n",
        " >>> dictionery store data in key value pair, for indexing we can use key value pair.  and same is mutable can assing value to key value pair.\n",
        "  if have addded updated value in dictionery assing updated value insted of old value.\n",
        "\n",
        "\n",
        "5) Why might you use a set instead of a list in Python?\n",
        "\n",
        ">>>> set is unorderd collection of data which is not accesseble using index.  set does not matter the order that's why we can't access using index.\n",
        " if have duplicate values in the set when you print the same showing unique value only\n",
        "\n",
        " 6) What is a string in Python, and how is it different from a list?\n",
        "\n",
        " >>>> string is a immutable in this charctores arranged in unchangeble order.and cosider to writing sentences.\n",
        "\n",
        " 7)How do tuples ensure data integrity in Python?\n",
        " >>> tuples is a unchangeble data collection in this can delete the tuple but can't modify it  that's why tuples is a secure way store the data.\n",
        "\n",
        "\n",
        " 8) What is a hash table, and how does it relate to dictionaries in Python\n",
        "\n",
        "\n",
        "\n",
        "\n",
        " 9) Can lists contain different data types in Python.\n",
        "\n",
        " >>>> list is a heterogenous data type can use contain defferant data type like string, boolian, integer,complex\n",
        "\n",
        "\n",
        "10) Explain why strings are immutable in Python ?\n",
        "\n",
        ">>>> can't modify the string Exa :- \"samir\" in this can't modift the samir using idexing like samir[1] = \"b\"\n",
        " if try to do this getting error string is immutable\n",
        "\n",
        "11 ) What advantages do dictionaries offer over lists for certain tasks?\n",
        "\n",
        ">>> in the dictinery can assining the value using key pair and also access the value using same keys and keys & values can be use in dictioner.\n",
        "\n",
        "\n",
        "12 ) Describe a scenario where using a tuple would be preferable over a list ?\n",
        "\n",
        ">>   in few condition need to store data securly like pan card aadhar card and tuple is unchangeble data type . hence tuple is preferable  insted of list\n",
        "\n",
        "13 ) How do sets handle duplicate values in Python ?\n",
        ">>>> set is is unorderd collection of unique data in this duplicate entry not allowed if have duplicate value in set creation set showing unque value only  when run the program.'''\n",
        "\n",
        "a = {\"samir\", \"santosh\",\"samir\",\"santosh\"}\n",
        "a\n",
        "\n",
        "\n"
      ],
      "metadata": {
        "id": "acskvA8liSoZ",
        "colab": {
          "base_uri": "https://localhost:8080/"
        },
        "outputId": "825f61db-3e0b-4602-ba43-7abcb2cac2cf"
      },
      "execution_count": 5,
      "outputs": [
        {
          "output_type": "execute_result",
          "data": {
            "text/plain": [
              "{'samir', 'santosh'}"
            ]
          },
          "metadata": {},
          "execution_count": 5
        }
      ]
    },
    {
      "cell_type": "code",
      "source": [
        "'''14 )  How does the “in” keyword work differently for lists and dictionaries ?'''\n",
        ">>> ## \"In\" is a membership opertor whic can use to check value is available or not'''\n",
        "lis = [\"santosh\",\"samir\",\"sandip\",\"dhanaji\",\"shubham\"]\n",
        "\"shubham\" in lis\n",
        "\n",
        "\n",
        "\n"
      ],
      "metadata": {
        "colab": {
          "base_uri": "https://localhost:8080/"
        },
        "id": "FehjCGZg94YY",
        "outputId": "ad785e56-a24d-4e32-cbea-f884e8ac0972"
      },
      "execution_count": null,
      "outputs": [
        {
          "output_type": "execute_result",
          "data": {
            "text/plain": [
              "True"
            ]
          },
          "metadata": {},
          "execution_count": 11
        }
      ]
    },
    {
      "cell_type": "code",
      "source": [
        "dic = {\"santosh\":1234,\"Dj\":4321}\n",
        "\"santosh\" in dic\n"
      ],
      "metadata": {
        "colab": {
          "base_uri": "https://localhost:8080/"
        },
        "id": "nbfWHyHd_uw0",
        "outputId": "80de5eb3-376b-4e34-b398-bed0fffe65e6"
      },
      "execution_count": null,
      "outputs": [
        {
          "output_type": "execute_result",
          "data": {
            "text/plain": [
              "True"
            ]
          },
          "metadata": {},
          "execution_count": 24
        }
      ]
    },
    {
      "cell_type": "code",
      "source": [
        "from os import name\n",
        "'''15 ) Can you modify the elements of a tuple? Explain why or why not ?\n",
        ">>> tuple is immutable hence can not modify the elements of tuple. can use tuple for stable data elements.\n",
        "\n",
        "\n",
        "16 ) What is a nested dictionary, and give an example of its use case ?\n",
        ">>> can use dictionary under the dictionery that's called nexted dictionery.'''\n",
        "\n",
        "name = {\n",
        "'Dic1':{\"san\": \"santosh\",\"samir\":\"sam\"},\n",
        "'Dic2':{'A':1234,'B':4321},\n",
        "'Dic3':{'c':987,\"d\":75646}\n",
        "}\n",
        "name\n"
      ],
      "metadata": {
        "colab": {
          "base_uri": "https://localhost:8080/"
        },
        "id": "HfuNYtLwBZLK",
        "outputId": "b7a2149a-07f3-4274-f0f8-252e8c1a33dd"
      },
      "execution_count": null,
      "outputs": [
        {
          "output_type": "execute_result",
          "data": {
            "text/plain": [
              "{'Dic1': {'san': 'santosh', 'samir': 'sam'},\n",
              " 'Dic2': {'A': 1234, 'B': 4321},\n",
              " 'Dic3': {'c': 987, 'd': 75646}}"
            ]
          },
          "metadata": {},
          "execution_count": 35
        }
      ]
    },
    {
      "cell_type": "code",
      "source": [
        "name. get(\"Dic1\")\n",
        "\n"
      ],
      "metadata": {
        "colab": {
          "base_uri": "https://localhost:8080/"
        },
        "id": "Eok8E5IdC6PH",
        "outputId": "9ed3994f-e514-4006-af76-1b4a574d0255"
      },
      "execution_count": null,
      "outputs": [
        {
          "output_type": "execute_result",
          "data": {
            "text/plain": [
              "{'san': 'santosh', 'samir': 'sam'}"
            ]
          },
          "metadata": {},
          "execution_count": 38
        }
      ]
    },
    {
      "cell_type": "code",
      "source": [
        "17 ) Describe the time complexity of accessing elements in a dictionary\n",
        ">>>\n",
        "\n",
        "\n",
        "\n",
        "18 ) In what situations are lists preferred over dictionaries ?\n",
        ">>  list is orderd collection of data list grocery list. can access the data useing indexing but in dictionary can access the data using key value pair and same is unorderd colection of data\n",
        "grocery list is one of the example\n",
        "\n",
        "\n",
        "19 ) Why are dictionaries considered unordered, and how does that affect data retrieval ?\n",
        ">>> we can't slicing the data using indexing reason of behind this elements are not store in specific order. need to add use key value to retrieval the data insted of index\n",
        "\n",
        "\n",
        "20 ) Explain the difference between a list and a dictionary in terms of data retrieval\n",
        ">>> List :\n",
        "\n",
        "can use indexing to use data retrieval and list is a order collection of data list is versatile for store , managing and collectiong data that might chnage.\n",
        "\n",
        "Dictionary :\n",
        " dictionary is unorder collection of data which can iterat though key value pair.\n",
        "\n",
        "'''\n",
        "\n",
        "\n"
      ],
      "metadata": {
        "id": "jmF7GskxGEdL"
      },
      "execution_count": null,
      "outputs": []
    },
    {
      "cell_type": "code",
      "source": [
        "\n",
        "### Practical questions.\n",
        "\n",
        "'''1) Write a code to create a string with your name and print it ?'''\n",
        "\n",
        "Name = \"santosh\"\n",
        "print (Name)\n",
        "type (Name)"
      ],
      "metadata": {
        "colab": {
          "base_uri": "https://localhost:8080/"
        },
        "id": "d79DGNC8-s1C",
        "outputId": "c93fa26b-67b2-43b2-c2da-bf3cc59b282d"
      },
      "execution_count": null,
      "outputs": [
        {
          "output_type": "stream",
          "name": "stdout",
          "text": [
            "santosh\n"
          ]
        },
        {
          "output_type": "execute_result",
          "data": {
            "text/plain": [
              "str"
            ]
          },
          "metadata": {},
          "execution_count": 23
        }
      ]
    },
    {
      "cell_type": "code",
      "source": [
        "##2) Write a code to find the length of the string \"Hello World\".\n",
        "\n",
        "a = \"Hello World\"\n",
        "\n",
        "len(a)"
      ],
      "metadata": {
        "colab": {
          "base_uri": "https://localhost:8080/"
        },
        "id": "TRaulCWIib8C",
        "outputId": "785086eb-5d72-4ad5-ac5e-d817d99c87d8"
      },
      "execution_count": null,
      "outputs": [
        {
          "output_type": "execute_result",
          "data": {
            "text/plain": [
              "11"
            ]
          },
          "metadata": {},
          "execution_count": 3
        }
      ]
    },
    {
      "cell_type": "code",
      "source": [
        "### 3)  Write a code to slice the first 3 characters from the string \"Python Programming\"\n",
        "\n",
        "str = \"python programming\"\n",
        "str [:3]\n"
      ],
      "metadata": {
        "colab": {
          "base_uri": "https://localhost:8080/",
          "height": 36
        },
        "id": "p_pu_2dfjGTv",
        "outputId": "c687b764-e424-4e35-d7da-fe501fbfceb2"
      },
      "execution_count": null,
      "outputs": [
        {
          "output_type": "execute_result",
          "data": {
            "text/plain": [
              "'pyt'"
            ],
            "application/vnd.google.colaboratory.intrinsic+json": {
              "type": "string"
            }
          },
          "metadata": {},
          "execution_count": 9
        }
      ]
    },
    {
      "cell_type": "code",
      "source": [
        "### 4) Write a code to convert the string \"hello\" to uppercase ?\n",
        "\n",
        "convert =(\"hello\")\n",
        "print (convert.upper())\n"
      ],
      "metadata": {
        "colab": {
          "base_uri": "https://localhost:8080/"
        },
        "id": "pzd_kN2bjppr",
        "outputId": "a6214314-489c-4d86-b788-5883768bf6de"
      },
      "execution_count": null,
      "outputs": [
        {
          "output_type": "stream",
          "name": "stdout",
          "text": [
            "HELLO\n"
          ]
        }
      ]
    },
    {
      "cell_type": "code",
      "source": [
        "### 5 ) Write a code to replace the word \"apple\" with \"orange\" in the string \"I like apple\" ?\n",
        "\n",
        "sen = \" I like apple\"\n",
        "sen.replace(\"apple\", \"orange\")\n"
      ],
      "metadata": {
        "colab": {
          "base_uri": "https://localhost:8080/",
          "height": 36
        },
        "id": "WhpF8KGPkD0p",
        "outputId": "f35471de-d3a2-45e0-feaa-1c0142de34b2"
      },
      "execution_count": null,
      "outputs": [
        {
          "output_type": "execute_result",
          "data": {
            "text/plain": [
              "' I like orange'"
            ],
            "application/vnd.google.colaboratory.intrinsic+json": {
              "type": "string"
            }
          },
          "metadata": {},
          "execution_count": 20
        }
      ]
    },
    {
      "cell_type": "code",
      "source": [
        "### 6) Write a code to create a list with numbers 1 to 5 and print it\n",
        "san = list(range(1,6))\n",
        "print(san)"
      ],
      "metadata": {
        "colab": {
          "base_uri": "https://localhost:8080/"
        },
        "id": "dee5LN3Vk785",
        "outputId": "96f645d1-cbaf-46a5-a39d-f41633ea14f7"
      },
      "execution_count": null,
      "outputs": [
        {
          "output_type": "stream",
          "name": "stdout",
          "text": [
            "[1, 2, 3, 4, 5]\n"
          ]
        }
      ]
    },
    {
      "cell_type": "code",
      "source": [
        "### 7) Write a code to append the number 10 to the list [1, 2, 3, 4] ?\n",
        "\n",
        "List = [1,2,3,4]\n",
        "List.append(10)\n",
        "print(List)"
      ],
      "metadata": {
        "colab": {
          "base_uri": "https://localhost:8080/"
        },
        "id": "NPLRd8Czl9z-",
        "outputId": "c92b5cc7-bb9f-4d4a-a2f4-460b3821a991"
      },
      "execution_count": null,
      "outputs": [
        {
          "output_type": "stream",
          "name": "stdout",
          "text": [
            "[1, 2, 3, 4, 10]\n"
          ]
        }
      ]
    },
    {
      "cell_type": "code",
      "source": [
        "### 8) Write a code to remove the number 3 from the list [1, 2, 3, 4, 5] ?\n",
        "\n",
        "list = [1,2,3,4,5]\n",
        "list.remove(3)\n",
        "list"
      ],
      "metadata": {
        "colab": {
          "base_uri": "https://localhost:8080/"
        },
        "id": "phtjZytPnXOO",
        "outputId": "0d8c2883-1e2e-42b7-b013-170b9ab11037"
      },
      "execution_count": null,
      "outputs": [
        {
          "output_type": "execute_result",
          "data": {
            "text/plain": [
              "[1, 2, 4, 5]"
            ]
          },
          "metadata": {},
          "execution_count": 50
        }
      ]
    },
    {
      "cell_type": "code",
      "source": [
        "### 9 )  Write a code to access the second element in the list ['a', 'b', 'c', 'd'] ?\n",
        "element = ['a', 'b', 'c', 'd']\n",
        "element[1]"
      ],
      "metadata": {
        "colab": {
          "base_uri": "https://localhost:8080/",
          "height": 36
        },
        "id": "KR2mg5BuoAgi",
        "outputId": "013d1f5c-a923-4761-85d6-5f8509ad0d16"
      },
      "execution_count": null,
      "outputs": [
        {
          "output_type": "execute_result",
          "data": {
            "text/plain": [
              "'b'"
            ],
            "application/vnd.google.colaboratory.intrinsic+json": {
              "type": "string"
            }
          },
          "metadata": {},
          "execution_count": 45
        }
      ]
    },
    {
      "cell_type": "code",
      "source": [
        "### 10) Write a code to reverse the list [10, 20, 30, 40, 50]\n",
        "reverse = [10, 20, 30, 40, 50]\n",
        "print (reverse[::-1])"
      ],
      "metadata": {
        "colab": {
          "base_uri": "https://localhost:8080/"
        },
        "id": "RCE05VyAoibI",
        "outputId": "a75f2181-8090-4de9-86aa-30cbdbecce89"
      },
      "execution_count": null,
      "outputs": [
        {
          "output_type": "stream",
          "name": "stdout",
          "text": [
            "[50, 40, 30, 20, 10]\n"
          ]
        }
      ]
    },
    {
      "cell_type": "code",
      "source": [
        "### 11) Write a code to create a tuple with the elements 10, 20, 30 and print it\n",
        "Tuple=(10,20,30)\n",
        "print (Tuple)"
      ],
      "metadata": {
        "colab": {
          "base_uri": "https://localhost:8080/"
        },
        "id": "U4QgGAFcqL_N",
        "outputId": "18992ed9-f0e8-4b3f-c6f7-b61b085a1a47"
      },
      "execution_count": null,
      "outputs": [
        {
          "output_type": "stream",
          "name": "stdout",
          "text": [
            "(10, 20, 30)\n"
          ]
        }
      ]
    },
    {
      "cell_type": "code",
      "source": [
        "### 12) Write a code to access the first element of the tuple ('apple', 'banana', 'cherry').\n",
        "tuple =('apple', 'banana', 'cherry')\n",
        "tuple[0]"
      ],
      "metadata": {
        "colab": {
          "base_uri": "https://localhost:8080/",
          "height": 36
        },
        "id": "LhOnba5kr3wn",
        "outputId": "af74367c-d2db-4f80-f40e-40685a7167bf"
      },
      "execution_count": null,
      "outputs": [
        {
          "output_type": "execute_result",
          "data": {
            "text/plain": [
              "'apple'"
            ],
            "application/vnd.google.colaboratory.intrinsic+json": {
              "type": "string"
            }
          },
          "metadata": {},
          "execution_count": 77
        }
      ]
    },
    {
      "cell_type": "code",
      "source": [
        "### 13)  Write a code to count how many times the number 2 appears in the tuple (1, 2, 3, 2, 4, 2).\n",
        "\n",
        "tuple = (1, 2, 3, 2, 4, 2)\n",
        "tuple.count(2)\n",
        "\n",
        "\n"
      ],
      "metadata": {
        "colab": {
          "base_uri": "https://localhost:8080/"
        },
        "id": "vnZrrDets2cK",
        "outputId": "371b4240-7d4e-4e8a-8e1f-215f7c9d6f8a"
      },
      "execution_count": null,
      "outputs": [
        {
          "output_type": "execute_result",
          "data": {
            "text/plain": [
              "3"
            ]
          },
          "metadata": {},
          "execution_count": 78
        }
      ]
    },
    {
      "cell_type": "code",
      "source": [
        "### 14) Write a code to find the index of the element \"cat\" in the tuple ('dog', 'cat', 'rabbit').\n",
        "\n",
        "tuple = ('dog', 'cat', 'rabbit')\n",
        "tuple. index('cat')"
      ],
      "metadata": {
        "colab": {
          "base_uri": "https://localhost:8080/"
        },
        "id": "4fT3vX_ItXVq",
        "outputId": "d06f15e3-8c71-4804-8d97-fa9f2c2af68c"
      },
      "execution_count": null,
      "outputs": [
        {
          "output_type": "execute_result",
          "data": {
            "text/plain": [
              "1"
            ]
          },
          "metadata": {},
          "execution_count": 79
        }
      ]
    },
    {
      "cell_type": "code",
      "source": [
        "\n",
        "### 15)  Write a code to check if the element \"banana\" is in the tuple ('apple', 'orange', 'banana').\n",
        "tuple = ('apple', 'orange', 'banana')\n",
        "\"banana\" in tuple\n"
      ],
      "metadata": {
        "colab": {
          "base_uri": "https://localhost:8080/"
        },
        "id": "FILjCPm7toWX",
        "outputId": "09e24685-f68a-491d-b3ac-4622a10f39d5"
      },
      "execution_count": null,
      "outputs": [
        {
          "output_type": "execute_result",
          "data": {
            "text/plain": [
              "True"
            ]
          },
          "metadata": {},
          "execution_count": 80
        }
      ]
    },
    {
      "cell_type": "code",
      "source": [
        "### 16)  Write a code to create a set with the elements 1, 2, 3, 4, 5 and print it.\n",
        "\n",
        "SET = {1, 2, 3, 4, 5}\n",
        "print(SET)"
      ],
      "metadata": {
        "colab": {
          "base_uri": "https://localhost:8080/"
        },
        "id": "QRuztQXEuHAx",
        "outputId": "e96f8c96-6c0d-4e9c-8fdd-10bcfd9500e4"
      },
      "execution_count": null,
      "outputs": [
        {
          "output_type": "stream",
          "name": "stdout",
          "text": [
            "{1, 2, 3, 4, 5}\n"
          ]
        }
      ]
    },
    {
      "cell_type": "code",
      "source": [
        "### 17)  Write a code to add the element 6 to the set {1, 2, 3, 4}.\n",
        "\n",
        "SET = {1,2,3,4}\n",
        "SET.add(6)\n",
        "print(SET)"
      ],
      "metadata": {
        "colab": {
          "base_uri": "https://localhost:8080/"
        },
        "id": "hNWQwQbOuUm-",
        "outputId": "5eb73445-40f6-457d-fb93-1573f0b0a5dc"
      },
      "execution_count": null,
      "outputs": [
        {
          "output_type": "stream",
          "name": "stdout",
          "text": [
            "{1, 2, 3, 4, 6}\n"
          ]
        }
      ]
    },
    {
      "cell_type": "code",
      "source": [
        "### 18)  Write a code to create a tuple with the elements 10, 20, 30 and print it.\n",
        "\n",
        "Tuple = (10,20,30)\n",
        "print(Tuple)"
      ],
      "metadata": {
        "colab": {
          "base_uri": "https://localhost:8080/"
        },
        "id": "9QD8onGuu2F7",
        "outputId": "d3b2ea19-0d5f-4a76-fa53-547dfe9e58da"
      },
      "execution_count": null,
      "outputs": [
        {
          "output_type": "stream",
          "name": "stdout",
          "text": [
            "(10, 20, 30)\n"
          ]
        }
      ]
    },
    {
      "cell_type": "code",
      "source": [
        "''' 19 )  Write a code to access the first element of the tuple ('apple', 'banana', 'cherry').'''\n",
        "Tuple = ('apple', 'banana', 'cherry')\n",
        "Tuple[0]\n"
      ],
      "metadata": {
        "colab": {
          "base_uri": "https://localhost:8080/",
          "height": 36
        },
        "id": "SEqAh3X4vI-l",
        "outputId": "4a93b3bf-d431-4865-8ecb-45ae362f2823"
      },
      "execution_count": null,
      "outputs": [
        {
          "output_type": "execute_result",
          "data": {
            "text/plain": [
              "'apple'"
            ],
            "application/vnd.google.colaboratory.intrinsic+json": {
              "type": "string"
            }
          },
          "metadata": {},
          "execution_count": 86
        }
      ]
    },
    {
      "cell_type": "code",
      "source": [
        "### 20 )  Write a code to count how many times the number 2 appears in the tuple (1, 2, 3, 2, 4, 2).\n",
        "tuple = (1,2,3,2,4,2)\n",
        "tuple.count(2)"
      ],
      "metadata": {
        "colab": {
          "base_uri": "https://localhost:8080/"
        },
        "id": "sVklhGVTvUT3",
        "outputId": "dabc7468-a59d-4333-a352-8d1060538e77"
      },
      "execution_count": null,
      "outputs": [
        {
          "output_type": "execute_result",
          "data": {
            "text/plain": [
              "3"
            ]
          },
          "metadata": {},
          "execution_count": 88
        }
      ]
    },
    {
      "cell_type": "code",
      "source": [
        "### 21) Write a code to find the index of the element \"cat\" in the tuple ('dog', 'cat', 'rabbit').\n",
        "\n",
        "tuple = (\"dog\",\"cat\",\"rabbit\")\n",
        "tuple.index(\"cat\")"
      ],
      "metadata": {
        "colab": {
          "base_uri": "https://localhost:8080/"
        },
        "id": "ON2Qh-exvopH",
        "outputId": "11ff4f16-5ab4-476b-810a-a6ae8a9b35ad"
      },
      "execution_count": null,
      "outputs": [
        {
          "output_type": "execute_result",
          "data": {
            "text/plain": [
              "1"
            ]
          },
          "metadata": {},
          "execution_count": 90
        }
      ]
    },
    {
      "cell_type": "code",
      "source": [
        "#### 22)  Write a code to check if the element \"banana\" is in the tuple ('apple', 'orange', 'banana')\n",
        "\n",
        "tuple = (\"apple\",\"orange\",\"banana\")\n",
        "\"banana\" in tuple"
      ],
      "metadata": {
        "colab": {
          "base_uri": "https://localhost:8080/"
        },
        "id": "TpMf-mhtwTX6",
        "outputId": "8efa949a-c8ed-4a0a-8e03-baa9559b7284"
      },
      "execution_count": null,
      "outputs": [
        {
          "output_type": "execute_result",
          "data": {
            "text/plain": [
              "True"
            ]
          },
          "metadata": {},
          "execution_count": 95
        }
      ]
    },
    {
      "cell_type": "code",
      "source": [
        "### 23) Write a code to create a set with the elements 1, 2, 3, 4, 5 and print it.\n",
        "SET = {1,2,3,4,5}\n",
        "print(SET)"
      ],
      "metadata": {
        "colab": {
          "base_uri": "https://localhost:8080/"
        },
        "id": "uayKUdt6wu5E",
        "outputId": "fd33b246-4ad4-4d7a-fc27-eb42da509de9"
      },
      "execution_count": null,
      "outputs": [
        {
          "output_type": "stream",
          "name": "stdout",
          "text": [
            "{1, 2, 3, 4, 5}\n"
          ]
        }
      ]
    },
    {
      "cell_type": "code",
      "source": [
        "### 24) Write a code to add the element 6 to the set {1, 2, 3, 4}.\n",
        "\n",
        "SET = {1,2,3,4,}\n",
        "SET.add(6)\n",
        "print(SET)"
      ],
      "metadata": {
        "colab": {
          "base_uri": "https://localhost:8080/"
        },
        "id": "ijIKTL-AxMH6",
        "outputId": "080d2836-f059-475a-cd1b-82ad739efa2c"
      },
      "execution_count": null,
      "outputs": [
        {
          "output_type": "stream",
          "name": "stdout",
          "text": [
            "{1, 2, 3, 4, 6}\n"
          ]
        }
      ]
    },
    {
      "cell_type": "code",
      "source": [
        "lis = [\"santosh\",\"samir\",\"sandip\",\"dhanaji\",\"shubham\"]\n",
        "\"shubham\" in lis\n"
      ],
      "metadata": {
        "id": "NWmR7p-_xaaV",
        "colab": {
          "base_uri": "https://localhost:8080/"
        },
        "outputId": "0ca5aef4-cd4e-42f7-a021-95c66ec79af6"
      },
      "execution_count": null,
      "outputs": [
        {
          "output_type": "execute_result",
          "data": {
            "text/plain": [
              "True"
            ]
          },
          "metadata": {},
          "execution_count": 6
        }
      ]
    },
    {
      "cell_type": "code",
      "source": [],
      "metadata": {
        "id": "ZiLuFA8-9VOa"
      },
      "execution_count": null,
      "outputs": []
    }
  ]
}