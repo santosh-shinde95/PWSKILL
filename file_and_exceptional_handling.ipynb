{
  "nbformat": 4,
  "nbformat_minor": 0,
  "metadata": {
    "colab": {
      "provenance": []
    },
    "kernelspec": {
      "name": "python3",
      "display_name": "Python 3"
    },
    "language_info": {
      "name": "python"
    }
  },
  "cells": [
    {
      "cell_type": "markdown",
      "source": [
        "questions\n"
      ],
      "metadata": {
        "id": "NZIlRD39Ytiq"
      }
    },
    {
      "cell_type": "markdown",
      "source": [
        "##1) What is the difference between interpreted and compiled languages\n",
        " >>  source code tranform into the bytes by compilare code and send to execute to machin that's called compiled language.\n",
        "\n",
        " the interpreted language  code is executed line by line in this no need to use compilation code directly execute without compilation  \n",
        "\n"
      ],
      "metadata": {
        "id": "yIaEsqiAY2Sr"
      }
    },
    {
      "cell_type": "markdown",
      "source": [],
      "metadata": {
        "id": "5yadoMKvaFlN"
      }
    },
    {
      "cell_type": "markdown",
      "source": [
        "## 2) What is exception handling in Python?\n",
        ">>  exception is occured something while programme execution that discupts the regular flow of code that is the exeption. without handling the exceptions programme will not process ahed in this senario exceptions handling is usefull.\n",
        "\n",
        "\n"
      ],
      "metadata": {
        "id": "6pEhqq47dZWq"
      }
    },
    {
      "cell_type": "markdown",
      "source": [
        "# 3) F What is the purpose of the finally block in exception handling?\n",
        "\n",
        ">>> final block use in end of the code  to close the programme if even have exeptions in this programme finnally block close this.\n",
        "\n",
        "\n"
      ],
      "metadata": {
        "id": "urvMO9UqfX7f"
      }
    },
    {
      "cell_type": "markdown",
      "source": [
        "## 4) F What is logging in Python?\n",
        "\n",
        ">> it records the state and flow of your programe and usefull to understand , monitoring and debugging of tghe code."
      ],
      "metadata": {
        "id": "tsq9xP8xf9Y9"
      }
    },
    {
      "cell_type": "markdown",
      "source": [
        "###5) What is the significance of the __del__ method in Python\n",
        ">> this method basically refer to delete the method which methods not required.\n"
      ],
      "metadata": {
        "id": "PSwMArX1g6NN"
      }
    },
    {
      "cell_type": "markdown",
      "source": [
        "## 6) What is the difference between import and from ... import in Python\n",
        "\n",
        ">> import statement use when you need to use many atribute from the module and name of the  modual is short and easy to remenber but from import statement when you need to use few atribute from the modual or when modual name is lonag and not easy to remember"
      ],
      "metadata": {
        "id": "HMJroo5vha1g"
      }
    },
    {
      "cell_type": "markdown",
      "source": [
        "##7) How can you handle multiple exceptions in Python\n",
        ">>  For multiple exceptions handling .should be use try and except exception concept using as e in this getting multiple exceptions hadle in this concept."
      ],
      "metadata": {
        "id": "lP5CA7ypjo09"
      }
    },
    {
      "cell_type": "markdown",
      "source": [
        "### 8) What is the purpose of the with statement when handling files in Python?\n",
        ">> with statement use when file is open but not need to close if statement use without the with need to close file else file cant read but with statement statement automatically close."
      ],
      "metadata": {
        "id": "0IxYdzfOjtkH"
      }
    },
    {
      "cell_type": "markdown",
      "source": [
        "\n",
        "### 9) What is the difference between multithreading and multiprocessing?\n",
        "\n",
        ">> Multithreading and multiprocessing use for multitask simultaneously. multithreading use one core for run multiple treads and\n",
        "\n",
        "Multiprocessing use for use multiple processes simultaneously"
      ],
      "metadata": {
        "id": "rsKUuoFmjzyI"
      }
    },
    {
      "cell_type": "markdown",
      "source": [
        "## 10) What are the advantages of using logging in a program?\n",
        "\n",
        ">>> logging is helpfull to real time monitoring.\n",
        "performance optimization error detection  and truble shooting\n",
        "\n",
        "\n"
      ],
      "metadata": {
        "id": "da7zFGtbj36L"
      }
    },
    {
      "cell_type": "markdown",
      "source": [
        "##11) What is memory management in Python ?\n",
        ">>\n",
        "\n",
        "\n"
      ],
      "metadata": {
        "id": "65KEtcEYj-0s"
      }
    },
    {
      "cell_type": "markdown",
      "source": [
        "##12) What are the basic steps involved in exception handling in Python?\n",
        "\n",
        ">>> try, except, else and finally this are basic steps involed in exception handling in pyrhon"
      ],
      "metadata": {
        "id": "lzS6RCuKkFPD"
      }
    },
    {
      "cell_type": "markdown",
      "source": [
        "##13)  Why is memory management important in Python?\n",
        ">>"
      ],
      "metadata": {
        "id": "Zk3XswCNkKp5"
      }
    },
    {
      "cell_type": "markdown",
      "source": [
        "### 14) What is the role of try and except in exception handling?\n",
        ">> try and exception is python key words which are use for exception handling along with exception as e the is refer for all type of exception no need to mentioned error one by one insted of this can use try and except in python  \n",
        "\n"
      ],
      "metadata": {
        "id": "97HtTgJXkQAP"
      }
    },
    {
      "cell_type": "markdown",
      "source": [
        "##15) How does Python's garbage collection system work?\n",
        ">> automatically remove object from memary that are no longer use.\n",
        ""
      ],
      "metadata": {
        "id": "bBvJSiEDkXS6"
      }
    },
    {
      "cell_type": "markdown",
      "source": [
        "## 16) What is the purpose of the else block in exception handling\n",
        ">>  if except block run without any exception then else blco will be run\n",
        "\n"
      ],
      "metadata": {
        "id": "7ZbTpLbLlB6_"
      }
    },
    {
      "cell_type": "markdown",
      "source": [
        "### 17) What are the common logging levels in Python?\n",
        ">>\n",
        " logging level in python are following Dibug, info, warning,error,critical.\n",
        "\n",
        "  in this debug is a smaller lavel and critical is higher level logging"
      ],
      "metadata": {
        "id": "UXaTTKxNlHMy"
      }
    },
    {
      "cell_type": "markdown",
      "source": [
        "###18) What is the difference between os.fork() and multiprocessing in Python?\n",
        "\n",
        ">>>\n"
      ],
      "metadata": {
        "id": "HcNdFr88lY5d"
      }
    },
    {
      "cell_type": "markdown",
      "source": [],
      "metadata": {
        "id": "t6JPp4H5lU22"
      }
    },
    {
      "cell_type": "markdown",
      "source": [
        "###19) What is the importance of closing a file in Python?\n",
        ">> in python without close the file can not access the file or read the file. if file are open the cant not read and write the file.\n"
      ],
      "metadata": {
        "id": "wd7uu5VQlf1k"
      }
    },
    {
      "cell_type": "markdown",
      "source": [
        "###20) What is the difference between file.read() and file.readline() in Python?\n",
        ">> when file open as a read mode the can't write anything or modification not possible in this file read file refer only for the data reading\n",
        "\n",
        "File realine showing result only first line  "
      ],
      "metadata": {
        "id": "bePUOPsZlnfI"
      }
    },
    {
      "cell_type": "markdown",
      "source": [
        "###21)  What is the logging module in Python used for?\n",
        "\n",
        ">>> login modual used for track the event debugging and monitoring  "
      ],
      "metadata": {
        "id": "iKGUhdM_lswc"
      }
    },
    {
      "cell_type": "markdown",
      "source": [
        "22) What is the os module in Python used for in file handling?\n",
        "\n",
        ">>> os module interact with operating os used for path, memery usage  like that  "
      ],
      "metadata": {
        "id": "iU7TZ7LslyAN"
      }
    },
    {
      "cell_type": "markdown",
      "source": [
        "##23) What are the challenges associated with memory management in Python?\n",
        ">>  memory leaks, unexpected memory errors, and inefficient memory usage thats are the challangers in memory management\n"
      ],
      "metadata": {
        "id": "-26PJuvpl21w"
      }
    },
    {
      "cell_type": "markdown",
      "source": [
        "\n",
        "###24)  How do you raise an exception manually in Python?\n",
        ">>  in python can creat customized exception handling using def method usingt conditions\n",
        "\n",
        "\n"
      ],
      "metadata": {
        "id": "TZbq_Gbwl8Ne"
      }
    },
    {
      "cell_type": "markdown",
      "source": [
        "##25) Why is it important to use multithreading in certain applications?\n",
        "\n",
        ">> Multithreading means us single core to run the multiple threads simultaneously. hence runtime of the progranme is reduce\n",
        "\n",
        "\n"
      ],
      "metadata": {
        "id": "QW93v4jUmBOH"
      }
    },
    {
      "cell_type": "markdown",
      "source": [
        "### practical question"
      ],
      "metadata": {
        "id": "BUzFKPiymGO-"
      }
    },
    {
      "cell_type": "code",
      "source": [
        "##1) How can you open a file for writing in Python and write a string to it?\n",
        "\n",
        "file = open(\"file.txt\",\"w\")\n",
        "file.write(\"hello world\\n\")\n",
        "file.write(\"Pw Skill\")\n",
        "file.close()\n",
        "\n"
      ],
      "metadata": {
        "id": "3fCSwL7yG11s"
      },
      "execution_count": null,
      "outputs": []
    },
    {
      "cell_type": "code",
      "source": [
        "##2) Write a Python program to read the contents of a file and print each line\n",
        "file = open(\"file.txt\",\"r\")\n",
        "print(file.read())\n",
        "file.close()\n",
        "\n"
      ],
      "metadata": {
        "colab": {
          "base_uri": "https://localhost:8080/"
        },
        "id": "Z2I8zJBdG5m1",
        "outputId": "498343d6-19c3-44fb-f49f-550cf40f336f"
      },
      "execution_count": null,
      "outputs": [
        {
          "output_type": "stream",
          "name": "stdout",
          "text": [
            "hello world\n",
            "Pw Skill\n"
          ]
        }
      ]
    },
    {
      "cell_type": "code",
      "source": [
        "##3) How would you handle a case where the file doesn't exist while trying to open it for reading?\n",
        "\n",
        "try:\n",
        "  f= open(\"file.txt\",\"r\")\n",
        "except Exception as e :\n",
        "  print(e)\n",
        "finally:\n",
        "  print(\"to close the functipn\")\n"
      ],
      "metadata": {
        "id": "3YbmbE9iG9yE",
        "colab": {
          "base_uri": "https://localhost:8080/"
        },
        "outputId": "72487b09-eff0-43b5-e321-e7346fa043af"
      },
      "execution_count": null,
      "outputs": [
        {
          "output_type": "stream",
          "name": "stdout",
          "text": [
            "[Errno 2] No such file or directory: 'file.txt'\n",
            "to close the functipn\n"
          ]
        }
      ]
    },
    {
      "cell_type": "code",
      "source": [
        "##4) Write a Python script that reads from one file and writes its content to another file.\n",
        "\n",
        "file1 = open(\"file1.txt\",\"w\")\n",
        "file1.write(\"hello world\\n\")\n",
        "file1.write(\"Pw skill\")\n",
        "file1.close()\n",
        "\n",
        "file1 = open(\"file1.txt\",\"r\")\n",
        "file2 = open(\"file2.txt\",\"w\")\n",
        "file2.write(file1.read())\n",
        "file1.close()\n",
        "file2.close()\n",
        "\n",
        "file2 = open(\"file2.txt\",\"r\")\n",
        "print(file2.read())\n",
        "file2.close()\n",
        "\n"
      ],
      "metadata": {
        "id": "NOTEsR8CHEnZ",
        "colab": {
          "base_uri": "https://localhost:8080/"
        },
        "outputId": "e88e4da9-7d33-4dc3-fc8e-b56171791de7"
      },
      "execution_count": null,
      "outputs": [
        {
          "output_type": "stream",
          "name": "stdout",
          "text": [
            "hello world\n",
            "Pw skill\n"
          ]
        }
      ]
    },
    {
      "cell_type": "code",
      "source": [
        "##5)How would you catch and handle division by zero error in Python?\n",
        "def divide(a,b):\n",
        "  print(a,b)\n",
        "  if b == 0:\n",
        "    print(\"zero division error\")\n",
        "    return\n",
        "  return a/b\n",
        "for i in range(-10,10):\n",
        "  divide(i,i+1)\n",
        "\n"
      ],
      "metadata": {
        "colab": {
          "base_uri": "https://localhost:8080/"
        },
        "id": "z2Dtp6qsHO6Z",
        "outputId": "e2122c06-a189-48bd-ed70-b59747536736"
      },
      "execution_count": null,
      "outputs": [
        {
          "output_type": "stream",
          "name": "stdout",
          "text": [
            "-10 -9\n",
            "-9 -8\n",
            "-8 -7\n",
            "-7 -6\n",
            "-6 -5\n",
            "-5 -4\n",
            "-4 -3\n",
            "-3 -2\n",
            "-2 -1\n",
            "-1 0\n",
            "zero division error\n",
            "0 1\n",
            "1 2\n",
            "2 3\n",
            "3 4\n",
            "4 5\n",
            "5 6\n",
            "6 7\n",
            "7 8\n",
            "8 9\n",
            "9 10\n"
          ]
        }
      ]
    },
    {
      "cell_type": "code",
      "source": [
        "###6)Write a Python program that logs an error message to a log file when a division by zero exception occurs.\n",
        "\n",
        "import logging\n",
        "def divide(a,b):\n",
        "\n",
        "  if b == 0:\n",
        "    logging.error(\"zero divisiopn error\")\n",
        "    return\n",
        "  return (a/b)\n",
        "\n",
        "for i in range (-10,10):\n",
        "  divide(i,i+1)\n",
        "\n",
        "\n",
        "\n",
        "\n"
      ],
      "metadata": {
        "colab": {
          "base_uri": "https://localhost:8080/"
        },
        "id": "7jUndaguHU7U",
        "outputId": "0ede2f79-6951-4aad-bacd-c18c1b78f640"
      },
      "execution_count": null,
      "outputs": [
        {
          "output_type": "stream",
          "name": "stderr",
          "text": [
            "ERROR:root:zero divisiopn error\n"
          ]
        }
      ]
    },
    {
      "cell_type": "code",
      "source": [
        "###7)How do you log information at different levels (INFO, ERROR, WARNING) in Python using the logging module?\n",
        "\n",
        "try:\n",
        "\n",
        "\n",
        "\n"
      ],
      "metadata": {
        "id": "uPBnTifMHbIZ"
      },
      "execution_count": null,
      "outputs": []
    },
    {
      "cell_type": "code",
      "source": [
        "from typing_extensions import final\n",
        "###8) Write a program to handle a file opening error using exception handling.\n",
        "\n",
        "try:\n",
        "  file = open(\"file.txt\",\"r\")\n",
        "  print(file.read())\n",
        "  file.close()\n",
        "except Exception as e:\n",
        "  print(\"error massage\",e )\n",
        "finally:\n",
        "  print(\"to close the file\")\n",
        "\n",
        "\n"
      ],
      "metadata": {
        "id": "F4cs3YZhHfzk",
        "colab": {
          "base_uri": "https://localhost:8080/"
        },
        "outputId": "7ccb8cd8-f2b6-40d3-a65b-09942b1e7670"
      },
      "execution_count": null,
      "outputs": [
        {
          "output_type": "stream",
          "name": "stdout",
          "text": [
            "error massage [Errno 2] No such file or directory: 'file.txt'\n",
            "to close the file\n"
          ]
        }
      ]
    },
    {
      "cell_type": "code",
      "source": [
        "from os import close\n",
        "###9) How can you read a file line by line and store its content in a list in Python?\n",
        "\n",
        "file2 = open(\"file2.txt\",\"r\")\n",
        "count = 0\n",
        "\n",
        "print(\"using loop\")\n",
        "for line in file2:\n",
        "  count +=1\n",
        "  print(\"line {}:{} \".format(count.line.strip()))\n",
        "\n",
        "file2.close"
      ],
      "metadata": {
        "id": "eVittFNvHl8c",
        "colab": {
          "base_uri": "https://localhost:8080/",
          "height": 228
        },
        "outputId": "e14ae470-2d88-4aec-f073-ef8209400e19"
      },
      "execution_count": null,
      "outputs": [
        {
          "output_type": "stream",
          "name": "stdout",
          "text": [
            "using loop\n"
          ]
        },
        {
          "output_type": "error",
          "ename": "AttributeError",
          "evalue": "'int' object has no attribute 'line'",
          "traceback": [
            "\u001b[0;31m---------------------------------------------------------------------------\u001b[0m",
            "\u001b[0;31mAttributeError\u001b[0m                            Traceback (most recent call last)",
            "\u001b[0;32m<ipython-input-46-5a3f4f837eae>\u001b[0m in \u001b[0;36m<cell line: 0>\u001b[0;34m()\u001b[0m\n\u001b[1;32m      8\u001b[0m \u001b[0;32mfor\u001b[0m \u001b[0mline\u001b[0m \u001b[0;32min\u001b[0m \u001b[0mfile2\u001b[0m\u001b[0;34m:\u001b[0m\u001b[0;34m\u001b[0m\u001b[0;34m\u001b[0m\u001b[0m\n\u001b[1;32m      9\u001b[0m   \u001b[0mcount\u001b[0m \u001b[0;34m+=\u001b[0m\u001b[0;36m1\u001b[0m\u001b[0;34m\u001b[0m\u001b[0;34m\u001b[0m\u001b[0m\n\u001b[0;32m---> 10\u001b[0;31m   \u001b[0mprint\u001b[0m\u001b[0;34m(\u001b[0m\u001b[0;34m\"line {}:{} \"\u001b[0m\u001b[0;34m.\u001b[0m\u001b[0mformat\u001b[0m\u001b[0;34m(\u001b[0m\u001b[0mcount\u001b[0m\u001b[0;34m.\u001b[0m\u001b[0mline\u001b[0m\u001b[0;34m.\u001b[0m\u001b[0mstrip\u001b[0m\u001b[0;34m(\u001b[0m\u001b[0;34m)\u001b[0m\u001b[0;34m)\u001b[0m\u001b[0;34m)\u001b[0m\u001b[0;34m\u001b[0m\u001b[0;34m\u001b[0m\u001b[0m\n\u001b[0m\u001b[1;32m     11\u001b[0m \u001b[0;34m\u001b[0m\u001b[0m\n\u001b[1;32m     12\u001b[0m \u001b[0mfile2\u001b[0m\u001b[0;34m.\u001b[0m\u001b[0mclose\u001b[0m\u001b[0;34m\u001b[0m\u001b[0;34m\u001b[0m\u001b[0m\n",
            "\u001b[0;31mAttributeError\u001b[0m: 'int' object has no attribute 'line'"
          ]
        }
      ]
    },
    {
      "cell_type": "code",
      "source": [
        "###10) How can you append data to an existing file in Python?\n",
        "\n",
        "file2 = open(\"file2.txt\",\"a\")\n",
        "file2.write(\"this this append line\")\n",
        "file2.close()\n",
        "file2 = open(\"file2.txt\",\"r\")\n",
        "print(file2.read())\n",
        "file2.close()"
      ],
      "metadata": {
        "id": "JM7DYhLlHs3F",
        "colab": {
          "base_uri": "https://localhost:8080/"
        },
        "outputId": "fa61150c-0e1e-4b7d-8c9b-bba1c0f87b96"
      },
      "execution_count": null,
      "outputs": [
        {
          "output_type": "stream",
          "name": "stdout",
          "text": [
            "hello world\n",
            "Pw skillthis this append linethis this append linethis this append line\n"
          ]
        }
      ]
    },
    {
      "cell_type": "code",
      "source": [
        "###11) Write a Python program that uses a try-except block to handle an error when attempting to access a dictionary key that doesn't exist?\n",
        "try:\n",
        "  file3 = open(\"file4.txt\",\"r\")\n",
        "  file3.write(\"name\",\"salry\",\"age\")\n",
        "  file3.write(\"santosh\",50000,29)\n",
        "except Exception as e:\n",
        "  print(\"error massage : \",e)\n",
        "finally:\n",
        "  print(\"to close the file\")\n",
        "\n",
        "\n",
        "\n"
      ],
      "metadata": {
        "id": "vsKP84t_Hxqq",
        "colab": {
          "base_uri": "https://localhost:8080/"
        },
        "outputId": "4c959f03-25fc-455f-b873-efd78578f911"
      },
      "execution_count": null,
      "outputs": [
        {
          "output_type": "stream",
          "name": "stdout",
          "text": [
            "error massage :  [Errno 2] No such file or directory: 'file4.txt'\n",
            "to close the file\n"
          ]
        }
      ]
    },
    {
      "cell_type": "code",
      "source": [
        "##12) Write a program that demonstrates using multiple except blocks to handle different types of exceptions/\n",
        "try:\n",
        "   f = open(\"file.txt\",\"r\")\n",
        "   f.write(\"write in read mode\")\n",
        "except Exception as e:\n",
        "  print(\"havin g error \",e)\n",
        "\n",
        "else:\n",
        "  f.close()\n",
        "  print(5+3)\n",
        "  print(\"this is else block\")\n",
        "finally:\n",
        "  print(\"this is finally block\")\n",
        "\n"
      ],
      "metadata": {
        "id": "sGo3OMX4H6im",
        "colab": {
          "base_uri": "https://localhost:8080/"
        },
        "outputId": "002b7a55-5eee-45a1-ce69-9034dee98797"
      },
      "execution_count": null,
      "outputs": [
        {
          "output_type": "stream",
          "name": "stdout",
          "text": [
            "havin g error  [Errno 2] No such file or directory: 'file.txt'\n",
            "this is finally block\n"
          ]
        }
      ]
    },
    {
      "cell_type": "code",
      "source": [
        "###13)  How would you check if a file exists before attempting to read it in Python?\n",
        "file2.name\n",
        "\n"
      ],
      "metadata": {
        "id": "RZoBzH5QH-dH",
        "colab": {
          "base_uri": "https://localhost:8080/",
          "height": 35
        },
        "outputId": "d685f194-9c0a-43df-9fe7-818e5b07e132"
      },
      "execution_count": null,
      "outputs": [
        {
          "output_type": "execute_result",
          "data": {
            "text/plain": [
              "'file2.txt'"
            ],
            "application/vnd.google.colaboratory.intrinsic+json": {
              "type": "string"
            }
          },
          "metadata": {},
          "execution_count": 57
        }
      ]
    },
    {
      "cell_type": "code",
      "source": [
        "##14) Write a program that uses the logging module to log both informational and error messages.\n",
        "\n",
        "import logging\n",
        "\n",
        "logging\n",
        "\n",
        "\n"
      ],
      "metadata": {
        "id": "Rf__RD6dICog"
      },
      "execution_count": null,
      "outputs": []
    },
    {
      "cell_type": "code",
      "source": [
        "##15)  Write a Python program that prints the content of a file and handles the case when the file is empty?\n",
        "\n",
        "f = open(\"test4.txt\",\"w\")\n",
        "f.close()\n",
        "\n",
        "with open(\"test4.txt\", 'r') as file_obj:\n",
        "       first_char = file_obj.read(1)\n",
        "       if not first_char:\n",
        "\n",
        "            print(\"File is empty\")\n",
        "       else:\n",
        "            print(\"file not empty\")\n"
      ],
      "metadata": {
        "id": "SU0hfeuQIKMj",
        "colab": {
          "base_uri": "https://localhost:8080/"
        },
        "outputId": "8b21b771-679b-4885-a2a4-ba4a8dd051ed"
      },
      "execution_count": 16,
      "outputs": [
        {
          "output_type": "stream",
          "name": "stdout",
          "text": [
            "File is empty\n"
          ]
        }
      ]
    },
    {
      "cell_type": "code",
      "source": [
        "##16) Demonstrate how to use memory profiling to check the memory usage of a small program ?\n",
        "import sys\n",
        "\n",
        "sys.getsizeof({\"test4.txt\"})\n",
        "\n"
      ],
      "metadata": {
        "id": "ic0v3hNuIQf8",
        "colab": {
          "base_uri": "https://localhost:8080/"
        },
        "outputId": "1b1e6d5d-6995-4ad3-d11f-296d86d6d8f7"
      },
      "execution_count": 19,
      "outputs": [
        {
          "output_type": "execute_result",
          "data": {
            "text/plain": [
              "216"
            ]
          },
          "metadata": {},
          "execution_count": 19
        }
      ]
    },
    {
      "cell_type": "code",
      "source": [
        "###17)  Write a Python program to create and write a list of numbers to a file, one number per line\n",
        "\n",
        "f = open(\"number.txt\",\"w\")\n",
        "f.write(\"1\\n\")\n",
        "f.write(\"2\\n\")\n",
        "f.write(\"3\\n\")\n",
        "f.write(\"4\\n\")\n",
        "f.write(\"5\\n\")\n",
        "f.close()\n",
        "\n",
        "f= open(\"number.txt\",\"r\")\n",
        "\n",
        "print(f.read())\n",
        "\n",
        "f.close()\n"
      ],
      "metadata": {
        "id": "vZacpus3IY-m",
        "colab": {
          "base_uri": "https://localhost:8080/"
        },
        "outputId": "dc4a7b4c-5c45-4327-ebd8-4a1776d03ac9"
      },
      "execution_count": null,
      "outputs": [
        {
          "output_type": "stream",
          "name": "stdout",
          "text": [
            "1\n",
            "2\n",
            "3\n",
            "4\n",
            "5\n",
            "\n"
          ]
        }
      ]
    },
    {
      "cell_type": "code",
      "source": [
        "##18 How would you implement a basic logging setup that logs to a file with rotation after 1MB ?\n",
        "\n",
        "\n"
      ],
      "metadata": {
        "id": "w_JKvsKzIbQV"
      },
      "execution_count": null,
      "outputs": []
    },
    {
      "cell_type": "code",
      "source": [
        "###19) Write a program that handles both IndexError and KeyError using a try-except block\n",
        "\n",
        "\n"
      ],
      "metadata": {
        "id": "qyCD_shxIpkj"
      },
      "execution_count": null,
      "outputs": []
    },
    {
      "cell_type": "code",
      "source": [
        "##20)  How would you open a file and read its contents using a context manager in Python?\n",
        "\n",
        "f = open(\"text2.txt\",\"r\")\n",
        "print(f.read())\n",
        "f.close()\n",
        "\n",
        "\n"
      ],
      "metadata": {
        "id": "DK-xW-MpItbo",
        "colab": {
          "base_uri": "https://localhost:8080/"
        },
        "outputId": "c7bff6a5-a5cd-4207-83d9-b12b76b9511c"
      },
      "execution_count": null,
      "outputs": [
        {
          "output_type": "stream",
          "name": "stdout",
          "text": [
            "12345\n"
          ]
        }
      ]
    },
    {
      "cell_type": "code",
      "source": [
        "###21) Write a Python program that reads a file and prints the number of occurrences of a specific word?\n",
        "\n",
        "file2 = open(\"text2.txt\",\"w\")\n",
        "\n",
        "file2.write(\"1\")\n",
        "file2.write(\"2\")\n",
        "file2.write(\"3\")\n",
        "file2.write(\"4\")\n",
        "file2.write(\"5\")\n",
        "file2.close()\n",
        "\n",
        "file2 = open(\"text2.txt\",\"r\")\n",
        "count = 0\n",
        "print(\"using loop\")\n",
        "for line in file2:\n",
        "  count +=1\n",
        "  print(\"line {}:{} \".format(count,line.strip()))\n",
        "\n",
        "file2.close\n",
        "\n"
      ],
      "metadata": {
        "id": "mMp5g6KFIyWD",
        "colab": {
          "base_uri": "https://localhost:8080/"
        },
        "outputId": "f641ce65-d069-44e4-be46-2104549f36a6"
      },
      "execution_count": null,
      "outputs": [
        {
          "output_type": "stream",
          "name": "stdout",
          "text": [
            "using loop\n",
            "line 1:12345 \n"
          ]
        },
        {
          "output_type": "execute_result",
          "data": {
            "text/plain": [
              "<function TextIOWrapper.close()>"
            ]
          },
          "metadata": {},
          "execution_count": 13
        }
      ]
    },
    {
      "cell_type": "code",
      "source": [
        "###22) How can you check if a file is empty before attempting to read its contents\n",
        "\n",
        "f = open(\"name1.txt\",\"w\")\n",
        "f.close()\n",
        "\n",
        "with open(\"name1.txt\", 'r') as file_obj:\n",
        "  first_char = file_obj.read(1)\n",
        "\n",
        "  if not first_char:\n",
        "        print(\"File is empty\")\n",
        "  else:\n",
        "      print(\"file not empty\")"
      ],
      "metadata": {
        "id": "g3SKX3q2I30m",
        "colab": {
          "base_uri": "https://localhost:8080/"
        },
        "outputId": "cf806814-8661-4fa8-851e-ad37aad72b0d"
      },
      "execution_count": null,
      "outputs": [
        {
          "output_type": "stream",
          "name": "stdout",
          "text": [
            "File is empty\n"
          ]
        }
      ]
    },
    {
      "cell_type": "code",
      "source": [
        "###23) Write a Python program that writes to a log file when an error occurs during file hand\n",
        "\n",
        "l = [1,2,3,4,54,56,6,7]\n",
        "\n"
      ],
      "metadata": {
        "id": "eqRTeA75I9-U"
      },
      "execution_count": null,
      "outputs": []
    },
    {
      "cell_type": "code",
      "source": [
        "l"
      ],
      "metadata": {
        "colab": {
          "base_uri": "https://localhost:8080/"
        },
        "id": "SnUoaXxU6v58",
        "outputId": "b96e5c73-85e4-4345-9af9-6441f1b2813b"
      },
      "execution_count": null,
      "outputs": [
        {
          "output_type": "execute_result",
          "data": {
            "text/plain": [
              "[1, 2, 3, 4, 54, 56, 6, 7]"
            ]
          },
          "metadata": {},
          "execution_count": 18
        }
      ]
    },
    {
      "cell_type": "code",
      "source": [],
      "metadata": {
        "id": "e7zA3DK96ws6"
      },
      "execution_count": null,
      "outputs": []
    }
  ]
}