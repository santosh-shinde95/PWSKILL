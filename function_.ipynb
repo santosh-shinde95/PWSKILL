{
  "nbformat": 4,
  "nbformat_minor": 0,
  "metadata": {
    "colab": {
      "provenance": []
    },
    "kernelspec": {
      "name": "python3",
      "display_name": "Python 3"
    },
    "language_info": {
      "name": "python"
    }
  },
  "cells": [
    {
      "cell_type": "code",
      "execution_count": null,
      "metadata": {
        "id": "AHL8FFfTvMJM"
      },
      "outputs": [],
      "source": [
        "##### functions\n",
        "'''\n",
        "1)  What is the difference between a function and a method in Python?\n",
        "\n",
        ">> Functions are independant entities that can be  used in both object oriented and non object oriented programming, while methods are class dependent entities that are used in object-oriented programming\n",
        "fuction  is a reusable , modular piece of code that performs an operation on data passed as parameters\n",
        " methos is piece of code that operated on data within a class\n"
      ]
    },
    {
      "cell_type": "code",
      "source": [
        "## 2)  Explain the concept of function arguments and parameters in Python.\n",
        "\n",
        "  >> argument is variable which is passed as a parameters in function.\n",
        "\n",
        "\n",
        "def fun(*name):\n",
        "  ''' here (*name )is a argument where we can pass the variable into the function'''\n",
        "  san = []\n",
        "  for i in name:\n",
        "    san.append(i)\n",
        "  return san"
      ],
      "metadata": {
        "id": "ae5ywFRz385j"
      },
      "execution_count": null,
      "outputs": []
    },
    {
      "cell_type": "code",
      "source": [
        "fun(\"santosh\",\"sandip\",\"dhanaji\")"
      ],
      "metadata": {
        "colab": {
          "base_uri": "https://localhost:8080/"
        },
        "id": "FTWAuszx4fNz",
        "outputId": "eb1120c5-533b-4c58-ae46-4be59455bcd9"
      },
      "execution_count": null,
      "outputs": [
        {
          "output_type": "execute_result",
          "data": {
            "text/plain": [
              "['santosh', 'sandip', 'dhanaji']"
            ]
          },
          "metadata": {},
          "execution_count": 11
        }
      ]
    },
    {
      "cell_type": "code",
      "source": [
        "'''### 3)  What are the different ways to define and call a function in Python\n",
        ">>  use def key word to define a function.\n",
        "specify the function name then include arguments in ():\n",
        "fun code will be block after the :\n",
        "use return keyword to return the value from the function.\n",
        "can return value asing ti the variable\n",
        "\n",
        "function called using function name with arguments in ()'''\n",
        "\n",
        "  ''' def function along with arguments'''\n"
      ],
      "metadata": {
        "colab": {
          "base_uri": "https://localhost:8080/",
          "height": 106
        },
        "id": "sy5ytyPI47Bo",
        "outputId": "0cd2607b-fb8d-404b-a3fa-66788f8c5a86"
      },
      "execution_count": null,
      "outputs": [
        {
          "output_type": "error",
          "ename": "IndentationError",
          "evalue": "unexpected indent (<ipython-input-36-d5bc9c104015>, line 10)",
          "traceback": [
            "\u001b[0;36m  File \u001b[0;32m\"<ipython-input-36-d5bc9c104015>\"\u001b[0;36m, line \u001b[0;32m10\u001b[0m\n\u001b[0;31m    ''' def function along with arguments'''\u001b[0m\n\u001b[0m    ^\u001b[0m\n\u001b[0;31mIndentationError\u001b[0m\u001b[0;31m:\u001b[0m unexpected indent\n"
          ]
        }
      ]
    },
    {
      "cell_type": "code",
      "source": [
        "def call (*argu):\n",
        "  cool =  []\n",
        "  for i in argu:\n",
        "    cool.append(i)\n",
        "  return cool\n",
        "\n",
        "call (1,2,3,43,4,5)\n"
      ],
      "metadata": {
        "colab": {
          "base_uri": "https://localhost:8080/"
        },
        "id": "DxMvpeVzALgD",
        "outputId": "1a924923-9196-44b1-ae09-f64aaaced1d7"
      },
      "execution_count": null,
      "outputs": [
        {
          "output_type": "execute_result",
          "data": {
            "text/plain": [
              "[1, 2, 3, 43, 4, 5]"
            ]
          },
          "metadata": {},
          "execution_count": 35
        }
      ]
    },
    {
      "cell_type": "code",
      "source": [
        "##  4) What is the purpose of the `return` statement in a Python function?\n",
        "\n",
        "\n",
        ">> return statement is used to return the value of function\n"
      ],
      "metadata": {
        "id": "oEF0_2l-DMQM"
      },
      "execution_count": null,
      "outputs": []
    },
    {
      "cell_type": "code",
      "source": [
        "def calling (*argu):\n",
        "  cooling =  []\n",
        "  for i in argu:\n",
        "    cooling.append(i)\n",
        "  return cooling"
      ],
      "metadata": {
        "id": "zhXw5vgYD-5j"
      },
      "execution_count": null,
      "outputs": []
    },
    {
      "cell_type": "code",
      "source": [
        "calling (\"san\",1,2,3,3,4,5,5,6)"
      ],
      "metadata": {
        "colab": {
          "base_uri": "https://localhost:8080/"
        },
        "id": "aiBtA1h7ou2K",
        "outputId": "07df9575-79b9-4d4d-ad4a-059f7d7cca61"
      },
      "execution_count": null,
      "outputs": [
        {
          "output_type": "execute_result",
          "data": {
            "text/plain": [
              "['san', 1, 2, 3, 3, 4, 5, 5, 6]"
            ]
          },
          "metadata": {},
          "execution_count": 10
        }
      ]
    },
    {
      "cell_type": "code",
      "source": [
        "\n",
        "### 5) What are iterators in Python and how do they differ from iterables?\n",
        ">> Iterable is a object and sequential structure that can return the member one by one in this list tuple dictionery set are iterable object.len\n",
        "iterator is an object repesenting a stream of data which return one by one"
      ],
      "metadata": {
        "id": "jyYjHehho8gI"
      },
      "execution_count": null,
      "outputs": []
    },
    {
      "cell_type": "code",
      "source": [
        "### 6)  Explain the concept of generators in Python and how they are defined\n",
        ">> generators produce result one by one instead of all at once  using yeild.\n"
      ],
      "metadata": {
        "id": "jjogK9_ByTCu"
      },
      "execution_count": null,
      "outputs": []
    },
    {
      "cell_type": "code",
      "source": [
        "\n",
        "def gnn(*argu):\n",
        "  for i in argu:\n",
        "   yield i"
      ],
      "metadata": {
        "id": "D9Uq1vL-zNSx"
      },
      "execution_count": null,
      "outputs": []
    },
    {
      "cell_type": "code",
      "source": [
        "gnn(1,2,3,4,3.5j)"
      ],
      "metadata": {
        "colab": {
          "base_uri": "https://localhost:8080/"
        },
        "id": "ItxD2AzMznZ5",
        "outputId": "3217d2e8-fb3a-495d-e261-c500c05982e2"
      },
      "execution_count": null,
      "outputs": [
        {
          "output_type": "execute_result",
          "data": {
            "text/plain": [
              "<generator object gnn at 0x7fd4fed14ad0>"
            ]
          },
          "metadata": {},
          "execution_count": 50
        }
      ]
    },
    {
      "cell_type": "code",
      "source": [
        "gen = gnn(1,2,3,4,3.5j)"
      ],
      "metadata": {
        "id": "OCn7-sk40L9G"
      },
      "execution_count": null,
      "outputs": []
    },
    {
      "cell_type": "code",
      "source": [
        "next(gen)"
      ],
      "metadata": {
        "colab": {
          "base_uri": "https://localhost:8080/"
        },
        "id": "q_i2s4jV29uZ",
        "outputId": "8fe067fc-1e48-4d39-c654-028e8303dad0"
      },
      "execution_count": null,
      "outputs": [
        {
          "output_type": "execute_result",
          "data": {
            "text/plain": [
              "1"
            ]
          },
          "metadata": {},
          "execution_count": 53
        }
      ]
    },
    {
      "cell_type": "code",
      "source": [
        "next(gen)"
      ],
      "metadata": {
        "colab": {
          "base_uri": "https://localhost:8080/"
        },
        "id": "N43Le1x_41X6",
        "outputId": "1b3a4033-7734-49f0-ca2a-4d5fff7f6f47"
      },
      "execution_count": null,
      "outputs": [
        {
          "output_type": "execute_result",
          "data": {
            "text/plain": [
              "2"
            ]
          },
          "metadata": {},
          "execution_count": 54
        }
      ]
    },
    {
      "cell_type": "code",
      "source": [
        "### 7) What are the advantages of using generators over regular functions?\n",
        ">> generatore function taking leass space of mamory and faster then regular function\n",
        "using yeild insted of return function is faster. return function calculate the result and written in one go but generator return result one by one.\n",
        "\n"
      ],
      "metadata": {
        "id": "ek5RwWYJ46Jt"
      },
      "execution_count": null,
      "outputs": []
    },
    {
      "cell_type": "code",
      "source": [
        "### 8) What is a lambda function in Python and when is it typically used\n",
        ">> lambda is an anonymous function and short hand function. lamba function no need to use return statement and def keyword\n",
        "using lambda convert hug code in short code.function\n",
        "\n",
        "\n"
      ],
      "metadata": {
        "id": "O1zTDMSK9AYj"
      },
      "execution_count": null,
      "outputs": []
    },
    {
      "cell_type": "code",
      "source": [
        "### 9)  Explain the purpose and usage of the `map()` function in Python.\n",
        ">> map fuction  use specific function to each item in an iterable and terms sent to the function as a cparameter.\n",
        " the map functin is a inbuild function in python  that applies given function to each of the iterable itemes and returns an iterable map object as a result.\n",
        "\n",
        "\n"
      ],
      "metadata": {
        "id": "BFFJxGWBxdoC"
      },
      "execution_count": null,
      "outputs": []
    },
    {
      "cell_type": "code",
      "source": [
        "### 10) What is the difference between `map()`, `reduce()`, and `filter()` functions in Python?\n",
        "\n",
        ">> map use specific function to each item in an iterable. the term send to function as parameter.\n",
        ">> reduce use basically mathematical technique commenly known as a reduction or folding. in this reduce the list of items in single value.\n",
        "   reduce function calculate first to items and generate partiial result and repeat the process till remain sigle value.\n",
        ">> filter function basically use for filteration of  data. like have grocery list but we want only those items which are start with 'b'\n",
        "  in this senario use filter function\n"
      ],
      "metadata": {
        "id": "nJpGYOAp9GRw"
      },
      "execution_count": null,
      "outputs": []
    },
    {
      "cell_type": "code",
      "source": [
        "### 11)Using pen & Paper write the internal mechanism for sum operation using  reduce function on this given\n",
        "list:[47,11,42,13];\n"
      ],
      "metadata": {
        "id": "krU_0W6G9HAE"
      },
      "execution_count": null,
      "outputs": []
    },
    {
      "cell_type": "code",
      "source": [
        "my_list=[47,11,42,13]"
      ],
      "metadata": {
        "id": "GcF0Y6255gRI"
      },
      "execution_count": null,
      "outputs": []
    },
    {
      "cell_type": "code",
      "source": [],
      "metadata": {
        "id": "PWgostULeLiM"
      },
      "execution_count": null,
      "outputs": []
    },
    {
      "cell_type": "code",
      "source": [
        "from functools import reduce\n",
        "\n",
        "reduce(lambda X,Y:X+Y,my_list )"
      ],
      "metadata": {
        "colab": {
          "base_uri": "https://localhost:8080/"
        },
        "id": "FZVxwkuV5kXU",
        "outputId": "733f0d0e-b350-4fb6-9192-1f7f67896092"
      },
      "execution_count": null,
      "outputs": [
        {
          "output_type": "execute_result",
          "data": {
            "text/plain": [
              "113"
            ]
          },
          "metadata": {},
          "execution_count": 16
        }
      ]
    },
    {
      "cell_type": "code",
      "source": [
        "\n",
        "### Practical\n",
        "\n",
        "1) Write a Python function that takes a list of numbers as input and returns the sum of all even numbers in\n",
        "the list.\n",
        "\n"
      ],
      "metadata": {
        "id": "_G0P-avq9LV5"
      },
      "execution_count": null,
      "outputs": []
    },
    {
      "cell_type": "code",
      "source": [],
      "metadata": {
        "id": "nWzUbFfS-ISO"
      },
      "execution_count": null,
      "outputs": []
    },
    {
      "cell_type": "code",
      "source": [
        "def sum_even(*names):\n",
        "  total = 0\n",
        "  for num in names:\n",
        "    if num % 2 == 0:\n",
        "      total += num\n",
        "  return total\n",
        "\n"
      ],
      "metadata": {
        "id": "FhslN3V--oaf"
      },
      "execution_count": null,
      "outputs": []
    },
    {
      "cell_type": "code",
      "source": [
        "sum_even(11,2,3,4,5,6,7,8,9,10,11)"
      ],
      "metadata": {
        "colab": {
          "base_uri": "https://localhost:8080/"
        },
        "id": "Zz632PZiAhk4",
        "outputId": "a231709c-abbe-4fd3-f2f8-bfbb4a9de331"
      },
      "execution_count": null,
      "outputs": [
        {
          "output_type": "execute_result",
          "data": {
            "text/plain": [
              "30"
            ]
          },
          "metadata": {},
          "execution_count": 26
        }
      ]
    },
    {
      "cell_type": "code",
      "source": [
        "## 2) Create a Python function that accepts a string and returns the reverse of that string.\n",
        "\n",
        "def sting_input():\n",
        "  string = str(input(\"my name is \"))\n",
        "  return string [::-1]\n",
        "\n"
      ],
      "metadata": {
        "id": "TOcnp-ZMC5M4"
      },
      "execution_count": null,
      "outputs": []
    },
    {
      "cell_type": "code",
      "source": [
        "sting_input ()"
      ],
      "metadata": {
        "colab": {
          "base_uri": "https://localhost:8080/",
          "height": 53
        },
        "id": "s7N5bvIGAHIk",
        "outputId": "de231075-fc9e-45ad-b207-56cacc71f42d"
      },
      "execution_count": null,
      "outputs": [
        {
          "name": "stdout",
          "output_type": "stream",
          "text": [
            "my name is santosh\n"
          ]
        },
        {
          "output_type": "execute_result",
          "data": {
            "text/plain": [
              "'hsotnas'"
            ],
            "application/vnd.google.colaboratory.intrinsic+json": {
              "type": "string"
            }
          },
          "metadata": {},
          "execution_count": 50
        }
      ]
    },
    {
      "cell_type": "code",
      "source": [
        "## 3)  Implement a Python function that takes a list of integers and returns a new list containing the squares of each number.\n",
        "\n",
        "def squere_num(*names):\n",
        "  squere_num = []\n",
        "  for num in names:\n",
        "    squere_num.append(num**2)\n",
        "  return squere_num\n",
        "\n",
        "\n"
      ],
      "metadata": {
        "id": "WRDstwr7AglU"
      },
      "execution_count": null,
      "outputs": []
    },
    {
      "cell_type": "code",
      "source": [
        "squere_num(1,2,3,4,4,5,6,6,7,7)"
      ],
      "metadata": {
        "colab": {
          "base_uri": "https://localhost:8080/"
        },
        "id": "WztKfzMmB8pY",
        "outputId": "cecfb926-adb4-4423-8bdb-025ae5859206"
      },
      "execution_count": null,
      "outputs": [
        {
          "output_type": "execute_result",
          "data": {
            "text/plain": [
              "[1, 4, 9, 16, 16, 25, 36, 36, 49, 49]"
            ]
          },
          "metadata": {},
          "execution_count": 47
        }
      ]
    },
    {
      "cell_type": "code",
      "source": [
        "## 4)  Write a Python function that checks if a given number is prime or not from 1 to 200.\n",
        "\n",
        "\n",
        "def prime_num(num):\n",
        "    for i in range(2,num+1):\n",
        "      if num % i == 0:\n",
        "        return (\"non prime\")\n",
        "      return(\"prime\")"
      ],
      "metadata": {
        "id": "f-s1AjZ6CKTH"
      },
      "execution_count": null,
      "outputs": []
    },
    {
      "cell_type": "code",
      "source": [
        "prime_num (17)"
      ],
      "metadata": {
        "colab": {
          "base_uri": "https://localhost:8080/",
          "height": 36
        },
        "id": "MiTOX2qEDAPC",
        "outputId": "cff6b8c9-8997-4256-b089-a2d3312d5c08"
      },
      "execution_count": null,
      "outputs": [
        {
          "output_type": "execute_result",
          "data": {
            "text/plain": [
              "'prime'"
            ],
            "application/vnd.google.colaboratory.intrinsic+json": {
              "type": "string"
            }
          },
          "metadata": {},
          "execution_count": 112
        }
      ]
    },
    {
      "cell_type": "code",
      "source": [
        "## 5) Create an iterator class in Python that generates the Fibonacci sequence up to a specified number of terms.\n",
        "\n",
        "def fib (n):\n",
        "  a,b = 0,1\n",
        "  for i in range(n):\n",
        "    yield a\n",
        "    a,b = b,a+b\n",
        "\n"
      ],
      "metadata": {
        "id": "Mo-w1v3wL166"
      },
      "execution_count": null,
      "outputs": []
    },
    {
      "cell_type": "code",
      "source": [
        "f  =fib (5)"
      ],
      "metadata": {
        "id": "QSikn7foIDR3"
      },
      "execution_count": null,
      "outputs": []
    },
    {
      "cell_type": "code",
      "source": [
        "next(f)"
      ],
      "metadata": {
        "colab": {
          "base_uri": "https://localhost:8080/"
        },
        "id": "_tdt0I9Lj__g",
        "outputId": "e8ae1667-e83d-4fbc-c13f-eaed6e06b4ab"
      },
      "execution_count": null,
      "outputs": [
        {
          "output_type": "execute_result",
          "data": {
            "text/plain": [
              "0"
            ]
          },
          "metadata": {},
          "execution_count": 10
        }
      ]
    },
    {
      "cell_type": "code",
      "source": [
        "next(f)"
      ],
      "metadata": {
        "colab": {
          "base_uri": "https://localhost:8080/"
        },
        "id": "XPT4wS6okJBb",
        "outputId": "2c158c49-7cb5-480a-ce18-15c6b395360f"
      },
      "execution_count": null,
      "outputs": [
        {
          "output_type": "execute_result",
          "data": {
            "text/plain": [
              "1"
            ]
          },
          "metadata": {},
          "execution_count": 11
        }
      ]
    },
    {
      "cell_type": "code",
      "source": [
        "next(f)"
      ],
      "metadata": {
        "colab": {
          "base_uri": "https://localhost:8080/"
        },
        "id": "j2OVCKr0kW3o",
        "outputId": "e20a1d93-c2a9-40da-9be7-3ee0e500e4db"
      },
      "execution_count": null,
      "outputs": [
        {
          "output_type": "execute_result",
          "data": {
            "text/plain": [
              "1"
            ]
          },
          "metadata": {},
          "execution_count": 12
        }
      ]
    },
    {
      "cell_type": "code",
      "source": [
        "next(f)"
      ],
      "metadata": {
        "colab": {
          "base_uri": "https://localhost:8080/"
        },
        "id": "A4O_3qP8kaI1",
        "outputId": "1f59ea81-5e0e-4abf-a2a7-7bf8cce6c8d8"
      },
      "execution_count": null,
      "outputs": [
        {
          "output_type": "execute_result",
          "data": {
            "text/plain": [
              "2"
            ]
          },
          "metadata": {},
          "execution_count": 13
        }
      ]
    },
    {
      "cell_type": "code",
      "source": [
        "### 6)  Write a generator function in Python that yields the powers of 2 up to a given exponent.\n",
        "\n",
        "def power(n):\n",
        "  for i in range(n):\n",
        "    yield 2**i\n"
      ],
      "metadata": {
        "id": "1NgZrqwnkcyt"
      },
      "execution_count": null,
      "outputs": []
    },
    {
      "cell_type": "code",
      "source": [
        "pow = power(10)"
      ],
      "metadata": {
        "id": "cmb65hOrk5hS"
      },
      "execution_count": null,
      "outputs": []
    },
    {
      "cell_type": "code",
      "source": [
        "next(pow)"
      ],
      "metadata": {
        "colab": {
          "base_uri": "https://localhost:8080/"
        },
        "id": "2hnHvZblk9c6",
        "outputId": "7bc41dcb-80c5-4f4c-fe58-a4d93f04fb6a"
      },
      "execution_count": null,
      "outputs": [
        {
          "output_type": "execute_result",
          "data": {
            "text/plain": [
              "1"
            ]
          },
          "metadata": {},
          "execution_count": 26
        }
      ]
    },
    {
      "cell_type": "code",
      "source": [
        "next(pow)"
      ],
      "metadata": {
        "colab": {
          "base_uri": "https://localhost:8080/"
        },
        "id": "4Li6wjJ7lFbD",
        "outputId": "e5bc5f9e-7be0-475f-8b38-c9f79800162a"
      },
      "execution_count": null,
      "outputs": [
        {
          "output_type": "execute_result",
          "data": {
            "text/plain": [
              "2"
            ]
          },
          "metadata": {},
          "execution_count": 27
        }
      ]
    },
    {
      "cell_type": "code",
      "source": [
        "next(pow)"
      ],
      "metadata": {
        "colab": {
          "base_uri": "https://localhost:8080/"
        },
        "id": "RZdZ4TMllggj",
        "outputId": "4e116a6d-df9e-48af-fb24-cf155cd9d3f9"
      },
      "execution_count": null,
      "outputs": [
        {
          "output_type": "execute_result",
          "data": {
            "text/plain": [
              "4"
            ]
          },
          "metadata": {},
          "execution_count": 28
        }
      ]
    },
    {
      "cell_type": "code",
      "source": [
        "next(pow)"
      ],
      "metadata": {
        "colab": {
          "base_uri": "https://localhost:8080/"
        },
        "id": "RVopnCw7liDz",
        "outputId": "c6478c17-8928-4f74-fafa-3d953e378181"
      },
      "execution_count": null,
      "outputs": [
        {
          "output_type": "execute_result",
          "data": {
            "text/plain": [
              "8"
            ]
          },
          "metadata": {},
          "execution_count": 29
        }
      ]
    },
    {
      "cell_type": "code",
      "source": [
        "### 7)  Implement a generator function that reads a file line by line and yields each line as a string.\n",
        "\n",
        "\n",
        "\n"
      ],
      "metadata": {
        "id": "S1QbORH8lt0D"
      },
      "execution_count": null,
      "outputs": []
    },
    {
      "cell_type": "code",
      "source": [
        "### 8)  Use a lambda function in Python to sort a list of tuples based on the second element of each tuple.\n",
        "\n",
        "\n",
        "\n",
        "X = [(\"santosh\", \"sandip\"),(\"dhanaji\",\"shubham\")]\n",
        "\n",
        "lis = lambda X: X.sort(X)\n",
        "\n"
      ],
      "metadata": {
        "id": "pwI_NCYempuM"
      },
      "execution_count": null,
      "outputs": []
    },
    {
      "cell_type": "code",
      "source": [
        "sorted(X ,key = lambda X: X,)\n"
      ],
      "metadata": {
        "colab": {
          "base_uri": "https://localhost:8080/"
        },
        "id": "zQ-RNHJWn_lU",
        "outputId": "d925be60-0b75-432d-df39-d66e622e9e2e"
      },
      "execution_count": null,
      "outputs": [
        {
          "output_type": "execute_result",
          "data": {
            "text/plain": [
              "[('dhanaji', 'shubham'), ('santosh', 'sandip')]"
            ]
          },
          "metadata": {},
          "execution_count": 13
        }
      ]
    },
    {
      "cell_type": "code",
      "source": [
        "\n",
        "## 9)  Write a Python program that uses `map()` to convert a list of temperatures from Celsius to Fahrenheit.\n",
        "\n",
        "\n",
        "\n"
      ],
      "metadata": {
        "id": "CBBk8lI6rDe8"
      },
      "execution_count": null,
      "outputs": []
    },
    {
      "cell_type": "code",
      "source": [
        "## 10)   Create a Python program that uses `filter()` to remove all the vowels from a given string.and\n",
        "\n",
        "list = ('a','b','c','d','e','f','g','h','i','j','k','l','m','n','o','p','q','r','s','t','u','v','w','x','y','z')\n",
        "list1 = ('a','e','i','o','u')\n",
        "\n",
        "def remove_vowels(text):\n",
        "    result = list(filter(lambda x: x not in list1 ,list))\n",
        "    return result\n"
      ],
      "metadata": {
        "id": "NzkV1EtZ0Xke"
      },
      "execution_count": null,
      "outputs": []
    },
    {
      "cell_type": "code",
      "source": [
        "remove_vowels(filter(lambda x: x not in list1 ,list))"
      ],
      "metadata": {
        "colab": {
          "base_uri": "https://localhost:8080/",
          "height": 245
        },
        "id": "p40nAUR-1yae",
        "outputId": "f4cf9770-9ffc-44eb-b264-034f4d81158f"
      },
      "execution_count": null,
      "outputs": [
        {
          "output_type": "error",
          "ename": "TypeError",
          "evalue": "'tuple' object is not callable",
          "traceback": [
            "\u001b[0;31m---------------------------------------------------------------------------\u001b[0m",
            "\u001b[0;31mTypeError\u001b[0m                                 Traceback (most recent call last)",
            "\u001b[0;32m<ipython-input-41-3287d98622a0>\u001b[0m in \u001b[0;36m<cell line: 0>\u001b[0;34m()\u001b[0m\n\u001b[0;32m----> 1\u001b[0;31m \u001b[0mremove_vowels\u001b[0m\u001b[0;34m(\u001b[0m\u001b[0mfilter\u001b[0m\u001b[0;34m(\u001b[0m\u001b[0;32mlambda\u001b[0m \u001b[0mx\u001b[0m\u001b[0;34m:\u001b[0m \u001b[0mx\u001b[0m \u001b[0;32mnot\u001b[0m \u001b[0;32min\u001b[0m \u001b[0mlist1\u001b[0m \u001b[0;34m,\u001b[0m\u001b[0mlist\u001b[0m\u001b[0;34m)\u001b[0m\u001b[0;34m)\u001b[0m\u001b[0;34m\u001b[0m\u001b[0;34m\u001b[0m\u001b[0m\n\u001b[0m",
            "\u001b[0;32m<ipython-input-40-e02228250f21>\u001b[0m in \u001b[0;36mremove_vowels\u001b[0;34m(text)\u001b[0m\n\u001b[1;32m      5\u001b[0m \u001b[0;34m\u001b[0m\u001b[0m\n\u001b[1;32m      6\u001b[0m \u001b[0;32mdef\u001b[0m \u001b[0mremove_vowels\u001b[0m\u001b[0;34m(\u001b[0m\u001b[0mtext\u001b[0m\u001b[0;34m)\u001b[0m\u001b[0;34m:\u001b[0m\u001b[0;34m\u001b[0m\u001b[0;34m\u001b[0m\u001b[0m\n\u001b[0;32m----> 7\u001b[0;31m     \u001b[0mresult\u001b[0m \u001b[0;34m=\u001b[0m \u001b[0mlist\u001b[0m\u001b[0;34m(\u001b[0m\u001b[0mfilter\u001b[0m\u001b[0;34m(\u001b[0m\u001b[0;32mlambda\u001b[0m \u001b[0mx\u001b[0m\u001b[0;34m:\u001b[0m \u001b[0mx\u001b[0m \u001b[0;32mnot\u001b[0m \u001b[0;32min\u001b[0m \u001b[0mlist1\u001b[0m \u001b[0;34m,\u001b[0m\u001b[0mlist\u001b[0m\u001b[0;34m)\u001b[0m\u001b[0;34m)\u001b[0m\u001b[0;34m\u001b[0m\u001b[0;34m\u001b[0m\u001b[0m\n\u001b[0m\u001b[1;32m      8\u001b[0m     \u001b[0;32mreturn\u001b[0m \u001b[0mresult\u001b[0m\u001b[0;34m\u001b[0m\u001b[0;34m\u001b[0m\u001b[0m\n",
            "\u001b[0;31mTypeError\u001b[0m: 'tuple' object is not callable"
          ]
        }
      ]
    },
    {
      "cell_type": "code",
      "source": [
        "##### 11) 11) Imagine an accounting routine used in a book shop. It works on a list with sublists, which look like this:\n",
        "\n",
        "\n",
        "\n",
        "\n",
        "\n",
        "\n"
      ],
      "metadata": {
        "id": "n5qorzmt2UiX"
      },
      "execution_count": null,
      "outputs": []
    }
  ]
}