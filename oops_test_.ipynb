{
  "nbformat": 4,
  "nbformat_minor": 0,
  "metadata": {
    "colab": {
      "provenance": []
    },
    "kernelspec": {
      "name": "python3",
      "display_name": "Python 3"
    },
    "language_info": {
      "name": "python"
    }
  },
  "cells": [
    {
      "cell_type": "code",
      "execution_count": null,
      "metadata": {
        "id": "xJcTu19quxA-"
      },
      "outputs": [],
      "source": [
        "  Python oops questions"
      ]
    },
    {
      "cell_type": "code",
      "source": [
        "# 1) What is Object-Oriented Programming (OOP)?\n",
        ">> oops is a  object oriented program that uses class and object to create reusable code\n"
      ],
      "metadata": {
        "id": "LmIQ16b_vCxr"
      },
      "execution_count": null,
      "outputs": []
    },
    {
      "cell_type": "code",
      "source": [
        "2) What is a class in OOP ?\n",
        "\n",
        ">>> class are tample and bluptint of creating object"
      ],
      "metadata": {
        "id": "8B6bCF5FwTId"
      },
      "execution_count": null,
      "outputs": []
    },
    {
      "cell_type": "markdown",
      "source": [],
      "metadata": {
        "id": "GNN9jND2x4x-"
      }
    },
    {
      "cell_type": "code",
      "source": [
        "3) What is a object in OOP1\n",
        ">> object have uniique attributes and behavier\n",
        "object contain data in the form of fields\n",
        "\n"
      ],
      "metadata": {
        "id": "ptamhoxFx4Qx"
      },
      "execution_count": null,
      "outputs": []
    },
    {
      "cell_type": "markdown",
      "source": [
        "\n",
        "\n",
        "4) What is the difference between abstraction and encapsulation\n",
        ">> abstraction is hide the compleax implememtation  while exposing the only exponsinal information\n",
        "encapusulation is basically use for data public privet and personal to access as per the requirement"
      ],
      "metadata": {
        "id": "jOxnGBEH0TiB"
      }
    },
    {
      "cell_type": "markdown",
      "source": [],
      "metadata": {
        "id": "E84VjZ0bu5Mr"
      }
    },
    {
      "cell_type": "markdown",
      "source": [
        "5) What are dunder methods in Python ?\n",
        "\n",
        ">> dunder method named as  special method, magic methos also. in that can create ciustome object in this method overriding and overlooping.\n",
        "for the create the method use double undrscore.\n"
      ],
      "metadata": {
        "id": "6X2o7q-k1m6g"
      }
    },
    {
      "cell_type": "markdown",
      "source": [
        "6)  Explain the concept of inheritance in OOP?\n",
        "\n",
        ">> The inheritance is basically childe class get property to father class also  and have more power then father class but father class have only own property and child class have father property and chil;d class propertyb also.\n",
        "\n",
        "\n"
      ],
      "metadata": {
        "id": "CAluGzkQ2tQR"
      }
    },
    {
      "cell_type": "markdown",
      "source": [
        "7) What is polymorphism in OOP ?\n",
        ">> polymorphin means refer multiple form depending on method/data\n",
        "polymorphoin is basically method overloading and and method overridding\n",
        "\n",
        "8)  How is encapsulation achieved in Python?\n",
        "\n",
        ">>Encapsulation use for data ,method hide in this use private  public and protect\n",
        "encapsulation is ussed for data privet public and personal in that can show only those method which we want to show."
      ],
      "metadata": {
        "id": "Nbe5cmpQ4UYH"
      }
    },
    {
      "cell_type": "markdown",
      "source": [
        "9)  What is a constructor in Python?\n",
        "\n",
        ">>> construct method is called as init method  this basically used for initialise the object of class automatically"
      ],
      "metadata": {
        "id": "iu7X7Ts38HhD"
      }
    },
    {
      "cell_type": "markdown",
      "source": [
        "10 )  What are class and static methods in Python?\n",
        "\n",
        ">>class is a basically tamplet or blue print of creating object and static method is use like normal function like add substraction like that"
      ],
      "metadata": {
        "id": "8qjx-shw9e-P"
      }
    },
    {
      "cell_type": "markdown",
      "source": [
        "11) What is method overloading in Python.\n",
        ">>method overloadding is when multiple methods in same class with  differeant parametere.    "
      ],
      "metadata": {
        "id": "qpHofL22-T_5"
      }
    },
    {
      "cell_type": "markdown",
      "source": [
        "12) What is method overriding in OOP?\n",
        "\n",
        ">>method overriding is when child  class has with differant parameteres, name and return type of method as a parant class with differant implementation\n"
      ],
      "metadata": {
        "id": "Xdp7YKgRAND9"
      }
    },
    {
      "cell_type": "markdown",
      "source": [
        "13 ) What is a property decorator in Python?\n",
        ">>>> property method  allows class as attribute"
      ],
      "metadata": {
        "id": "cOjZkxb_BrW8"
      }
    },
    {
      "cell_type": "markdown",
      "source": [
        "14) Why is polymorphism important in OOP/\n",
        "\n",
        ">>polymorphim allow to write code along with multiple data type.\n",
        "polymorphin allow code flexibility code reuse and code mantainability\n"
      ],
      "metadata": {
        "id": "5O6wQnl0CZ_q"
      }
    },
    {
      "cell_type": "markdown",
      "source": [
        "15) What is an abstract class in Python ?\n",
        ">>abstract method must be implement  for subclass and insure subclass follow the consistent structure."
      ],
      "metadata": {
        "id": "FXY5SSh9FZyG"
      }
    },
    {
      "cell_type": "markdown",
      "source": [
        "16) What are the advantages of OOP?\n",
        "\n",
        ">>oops is basically used for reuse the code rewiting and allow the code in outside the class also oops allow method overriding and overloading\n",
        "it's allow multiple type of data structure\n",
        "oops  is easy to maintainability.\n"
      ],
      "metadata": {
        "id": "VcbPzzOU7iDe"
      }
    },
    {
      "cell_type": "markdown",
      "source": [
        "17) What is the difference between a class variable and an instance variable ?\n",
        "\n",
        ">>class lavel variable is share with all instance of the class  and instance variable is unique to each of the instance of the class\n"
      ],
      "metadata": {
        "id": "y718pYlVJquY"
      }
    },
    {
      "cell_type": "markdown",
      "source": [
        "18) What is multiple inheritance in Python ?\n",
        ">>>    when class  deriver  more the one class thats called multiple inheritance and derived class inherit all the features of base class also.\n",
        "    \n"
      ],
      "metadata": {
        "id": "UK6Zn8jdLipH"
      }
    },
    {
      "cell_type": "markdown",
      "source": [
        "19)F Explain the purpose of ‘’__str__’ and ‘__repr__’ ‘ methods in Python\n",
        ">>> str method represent the string as a object and repr method recreat the object\n",
        "\n",
        "\n",
        "\n",
        "\n"
      ],
      "metadata": {
        "id": "NWtZoKCrNa2i"
      }
    },
    {
      "cell_type": "markdown",
      "source": [
        "20) What is the significance of the ‘super()’ function in Python?\n",
        "\n",
        ">>super function basically used for call to bases  method of the class.\n",
        "if you have the call the super method then they will shopw you result of base class."
      ],
      "metadata": {
        "id": "SizHSBciNnnd"
      }
    },
    {
      "cell_type": "markdown",
      "source": [
        "21)  What is the significance of the __del__ method in Python ?\n",
        "\n",
        ">>this is incapsulation method which is use for delete the method.\n"
      ],
      "metadata": {
        "id": "UEQVx3EbOfA9"
      }
    },
    {
      "cell_type": "markdown",
      "source": [
        "22) What is the difference between @staticmethod and @classmethod in Python ?\n",
        " >>>static method used like normal function  in this can do basis calculation.\n",
        " in class method can use multiple method in this define methods with multiple conditions  "
      ],
      "metadata": {
        "id": "Q5TRAS33O-VL"
      }
    },
    {
      "cell_type": "markdown",
      "source": [
        "23 )  How does polymorphism work in Python with inheritance ?\n",
        "\n",
        ">>polimorphism refer the object with sevral forms depending on the method/data.\n",
        "in the inheritance have more power to child class. child class all the properties received to the child class nad used multiple forms.\n"
      ],
      "metadata": {
        "id": "oqsLFVWbFWHs"
      }
    },
    {
      "cell_type": "markdown",
      "source": [
        "24) What is method chaining in Python OOP ?\n",
        ">>>Method chaining  means use multiple methods in one line.\n",
        "can chain the method of togethor in one statement.\n"
      ],
      "metadata": {
        "id": "WqZztp-cGylq"
      }
    },
    {
      "cell_type": "markdown",
      "source": [
        "25) What is the purpose of the __call__ method in Python?\n",
        ">>>call method is build in function in python and it's call dunder method also.\n",
        "call method allows to call an istance of the class insted of class."
      ],
      "metadata": {
        "id": "UErpz1KmHt-8"
      }
    },
    {
      "cell_type": "markdown",
      "source": [],
      "metadata": {
        "id": "19CVd7nXJ1dB"
      }
    },
    {
      "cell_type": "markdown",
      "source": [
        "Practical questions.\n"
      ],
      "metadata": {
        "id": "oc1UQhtBMFeA"
      }
    },
    {
      "cell_type": "code",
      "source": [
        " ##1)  Create a parent class Animal with a method speak() that prints a generic message. Create a child class Dog that overrides the speak() method to print \"Bark!\".\n",
        "\n",
        "class Animal:\n",
        "  def speak(self):\n",
        "    print(\"generic massage\")\n",
        "class Dog(Animal):\n",
        "  def speak(self):\n",
        "    print(\"Bark\")\n"
      ],
      "metadata": {
        "id": "mzxcfEW6MMk3"
      },
      "execution_count": null,
      "outputs": []
    },
    {
      "cell_type": "code",
      "source": [
        "ops= Dog()\n",
        "ops.speak()\n",
        "\n"
      ],
      "metadata": {
        "colab": {
          "base_uri": "https://localhost:8080/"
        },
        "id": "tp4r6tezNNyE",
        "outputId": "68028802-eaa4-459f-e203-5fbc7e22081c"
      },
      "execution_count": null,
      "outputs": [
        {
          "output_type": "stream",
          "name": "stdout",
          "text": [
            "Bark\n"
          ]
        }
      ]
    },
    {
      "cell_type": "code",
      "source": [
        "from abc import abstractmethod\n",
        "##2)  Write a program to create an abstract class Shape with a method area(). Derive classes Circle and Rectangle from it and implement the area() method in both.\n",
        "\n",
        "class abstract:\n",
        "  @abstractmethod\n",
        "  def calculate_area (self):\n",
        "    pass\n",
        "\n",
        "class rectangle (abstract):\n",
        "  def rectangle_calculate_area (self):\n",
        "    print( \"calculate the area of rectangle\")\n",
        "class circal (abstract):\n",
        "\n",
        "  def calculate_area (self):\n",
        "    print( \"calculate the area of circal\")"
      ],
      "metadata": {
        "id": "yuzDf9U1Nr9k"
      },
      "execution_count": null,
      "outputs": []
    },
    {
      "cell_type": "code",
      "source": [
        "c1=circal()\n",
        "c1.calculate_area()"
      ],
      "metadata": {
        "colab": {
          "base_uri": "https://localhost:8080/"
        },
        "id": "Fb35ylouQsgR",
        "outputId": "9cd5e1c3-e74e-4b91-cae8-efceb597d7c3"
      },
      "execution_count": null,
      "outputs": [
        {
          "output_type": "stream",
          "name": "stdout",
          "text": [
            "calculate the area of circal\n"
          ]
        }
      ]
    },
    {
      "cell_type": "code",
      "source": [
        "##3) Implement a multi-level inheritance scenario where a class Vehicle has an attribute type. Derive a class Car and further derive a class ElectricCar that adds a battery attribute.\n",
        "\n",
        "class vehical :\n",
        "  def vehical_info  (self):\n",
        "    print(\"vehical information\" )\n",
        "class car(vehical):\n",
        "  def car_info(self):\n",
        "    print( \"car information\")\n",
        "class electric_car(car):\n",
        "  def electric_car_info(self, battery):\n",
        "    self.battery = battery\n",
        "    print( \"battery\", self.battery)\n",
        "\n"
      ],
      "metadata": {
        "id": "bBLfc-pPRwLe"
      },
      "execution_count": null,
      "outputs": []
    },
    {
      "cell_type": "code",
      "source": [
        "c2 = electric_car()\n",
        "c2.electric_car_info(\"Exide\")"
      ],
      "metadata": {
        "colab": {
          "base_uri": "https://localhost:8080/"
        },
        "id": "JA5HHOELVGE5",
        "outputId": "e5ded9f1-b8d2-44bc-86eb-a2815658b5eb"
      },
      "execution_count": null,
      "outputs": [
        {
          "output_type": "stream",
          "name": "stdout",
          "text": [
            "battery Exide\n"
          ]
        }
      ]
    },
    {
      "cell_type": "code",
      "source": [
        "  ## 4) ##3) Implement a multi-level inheritance scenario where a class Vehicle has an attribute type. Derive a class Car and further derive a class ElectricCar that adds a battery attribute.\n",
        "\n",
        "class vehical :\n",
        "  def vehical_info  (self):\n",
        "    print(\"vehical information\" )\n",
        "class car(vehical):\n",
        "  def car_info(self):\n",
        "    print( \"car information\")\n",
        "class electric_car(car):\n",
        "  def electric_car_info(self, battery):\n",
        "    self.battery = battery\n",
        "    print( \"battery\", self.battery)\n"
      ],
      "metadata": {
        "id": "cBhxxdCEVW3j"
      },
      "execution_count": null,
      "outputs": []
    },
    {
      "cell_type": "code",
      "source": [
        "c3 = electric_car()\n",
        "c3.car_info()\n",
        "c3.vehical_info()\n",
        "c3.electric_car_info(\"Amararaj\")\n",
        "c3.battery"
      ],
      "metadata": {
        "colab": {
          "base_uri": "https://localhost:8080/",
          "height": 87
        },
        "id": "gGyWTHJlXXQ-",
        "outputId": "491a23dd-5795-4c42-d319-19f85e0b9840"
      },
      "execution_count": null,
      "outputs": [
        {
          "output_type": "stream",
          "name": "stdout",
          "text": [
            "car information\n",
            "vehical information\n",
            "battery Amararaj\n"
          ]
        },
        {
          "output_type": "execute_result",
          "data": {
            "text/plain": [
              "'Amararaj'"
            ],
            "application/vnd.google.colaboratory.intrinsic+json": {
              "type": "string"
            }
          },
          "metadata": {},
          "execution_count": 55
        }
      ]
    },
    {
      "cell_type": "code",
      "source": [
        "## 5) Write a program to demonstrate encapsulation by creating a class BankAccount with private attributes balance and methods to deposit, withdraw, and check balance.\n",
        "\n",
        "class Bank_account:\n",
        "  def __init__(self, balance):\n",
        "    self.__balance = balance\n",
        "\n",
        "  def deposit(self, amount):\n",
        "    self.__balance = self.__balance + amount\n",
        "\n",
        "  def withdrow(self, amount):\n",
        "    if self.__balance > amount:\n",
        "        self.__balance = self.__balance - amount\n",
        "        return self.__balance\n",
        "    else:\n",
        "      return \"insufficient balance\"\n",
        "\n",
        "  def check_balance(self):\n",
        "    return self.__balance\n",
        "\n",
        "\n",
        "\n"
      ],
      "metadata": {
        "id": "ZPfl6DVRZIrC"
      },
      "execution_count": null,
      "outputs": []
    },
    {
      "cell_type": "code",
      "source": [
        "acc  = Bank_account(1000)\n",
        "acc.deposit(100)\n",
        "acc.withdrow(500)\n",
        "acc.withdrow(100)\n",
        "acc.check_balance()\n"
      ],
      "metadata": {
        "colab": {
          "base_uri": "https://localhost:8080/"
        },
        "id": "_58bCoczQH0c",
        "outputId": "e741ce8d-2cf0-435e-bc34-91b65d7c9a7d"
      },
      "execution_count": null,
      "outputs": [
        {
          "output_type": "execute_result",
          "data": {
            "text/plain": [
              "500"
            ]
          },
          "metadata": {},
          "execution_count": 37
        }
      ]
    },
    {
      "cell_type": "code",
      "source": [
        "## 6 ) 6. Demonstrate runtime polymorphism using a method play() in a base class Instrument. Derive classes Guitar and Piano that implement their own version of play.\n",
        "\n",
        "import time"
      ],
      "metadata": {
        "id": "5uwRGmJBRBYx"
      },
      "execution_count": null,
      "outputs": []
    },
    {
      "cell_type": "code",
      "source": [
        "class Instrument:\n",
        "  def play(self):\n",
        "    print(\"play\")\n",
        "class Guitar(Instrument):\n",
        "  def play(self):\n",
        "    print(\"guitar play\")\n",
        "class Piano(Instrument):\n",
        "  def play(self):\n",
        "    print(\"piano play\")\n",
        "\n",
        "\n"
      ],
      "metadata": {
        "id": "uy8sb6TtWjVr"
      },
      "execution_count": null,
      "outputs": []
    },
    {
      "cell_type": "code",
      "source": [
        "c2 = Piano()\n",
        "c2.play()\n",
        "c2 = Guitar()\n",
        "c2.play()"
      ],
      "metadata": {
        "colab": {
          "base_uri": "https://localhost:8080/"
        },
        "id": "Sz7zpiUxZx1u",
        "outputId": "9fe330d3-c585-47ce-e15c-c7dabcaf729c"
      },
      "execution_count": null,
      "outputs": [
        {
          "output_type": "stream",
          "name": "stdout",
          "text": [
            "piano play\n",
            "guitar play\n"
          ]
        }
      ]
    },
    {
      "cell_type": "code",
      "source": [
        "##7.Create a class MathOperations with a class method add_numbers() to add two numbers and a static method subtract_numbers() to subtract two numbers.\n",
        "class MathOperations:\n",
        "  def add_numbers(a,b):\n",
        "    return a+b\n",
        "  @staticmethod\n",
        "  def subtract_numbers(a,b):\n",
        "    return a-b\n"
      ],
      "metadata": {
        "id": "2Q5xoaVeZ7bN"
      },
      "execution_count": null,
      "outputs": []
    },
    {
      "cell_type": "code",
      "source": [
        "a = MathOperations\n",
        "a.add_numbers(10,20)\n",
        "a.subtract_numbers(20,10)"
      ],
      "metadata": {
        "colab": {
          "base_uri": "https://localhost:8080/"
        },
        "id": "hryzX7UxdOav",
        "outputId": "24dda54c-2d15-4fae-fc0f-ef02a8280094"
      },
      "execution_count": null,
      "outputs": [
        {
          "output_type": "execute_result",
          "data": {
            "text/plain": [
              "10"
            ]
          },
          "metadata": {},
          "execution_count": 59
        }
      ]
    },
    {
      "cell_type": "code",
      "source": [
        "## 8 )  Implement a class Person with a class method to count the total number of persons created\n",
        "\n",
        "class Person:\n",
        "  total_person_count = 0\n",
        "  def __init__(self,name):\n",
        "    self.name = name\n",
        "    Person.total_person_count = Person.total_person_count + 1\n",
        "\n",
        "\n",
        "  def total_per(cls):\n",
        "    return cls.total_person_count\n"
      ],
      "metadata": {
        "id": "J85fN3gmdV8E"
      },
      "execution_count": null,
      "outputs": []
    },
    {
      "cell_type": "code",
      "source": [
        "p1 = Person"
      ],
      "metadata": {
        "id": "LQ7UQg1-g7Df"
      },
      "execution_count": null,
      "outputs": []
    },
    {
      "cell_type": "code",
      "source": [
        "p1.total_person_count"
      ],
      "metadata": {
        "colab": {
          "base_uri": "https://localhost:8080/"
        },
        "id": "WZlV_WUug_eL",
        "outputId": "4eedcd2b-c191-4fc4-b079-072976bccca1"
      },
      "execution_count": null,
      "outputs": [
        {
          "output_type": "execute_result",
          "data": {
            "text/plain": [
              "0"
            ]
          },
          "metadata": {},
          "execution_count": 140
        }
      ]
    },
    {
      "cell_type": "code",
      "source": [
        "p1=Person  (\"santosh\")\n",
        "p1= Person (\"sandip\")"
      ],
      "metadata": {
        "id": "bzH4OPKVhCic"
      },
      "execution_count": null,
      "outputs": []
    },
    {
      "cell_type": "code",
      "source": [
        "p1.total_per()"
      ],
      "metadata": {
        "colab": {
          "base_uri": "https://localhost:8080/"
        },
        "id": "Pq7yuC3BhEzj",
        "outputId": "fecc83c1-d0cd-473a-a96b-49499a919c76"
      },
      "execution_count": null,
      "outputs": [
        {
          "output_type": "execute_result",
          "data": {
            "text/plain": [
              "2"
            ]
          },
          "metadata": {},
          "execution_count": 142
        }
      ]
    },
    {
      "cell_type": "code",
      "source": [
        "## 9)  Write a class Fraction with attributes numerator and denominator. Override the str method to display the fraction as \"numerator/denominator\".\n",
        "\n",
        "class Fraction:\n",
        "  def __init__ (self,numerator,denominator):\n",
        "    self.numerator = numerator\n",
        "    self.denominator = denominator\n",
        "  def __str__(self):\n",
        "    return f\"{self.numerator}/{self.denominator}\""
      ],
      "metadata": {
        "id": "-FsNHcxOjSzl"
      },
      "execution_count": 49,
      "outputs": []
    },
    {
      "cell_type": "code",
      "source": [
        "F1 = Fraction(10,20)\n",
        "print(F1)"
      ],
      "metadata": {
        "colab": {
          "base_uri": "https://localhost:8080/"
        },
        "id": "8H30_UwdvYgj",
        "outputId": "b1f0152a-0331-429c-e5fc-0b75c140c236"
      },
      "execution_count": 50,
      "outputs": [
        {
          "output_type": "stream",
          "name": "stdout",
          "text": [
            "10/20\n"
          ]
        }
      ]
    },
    {
      "cell_type": "code",
      "source": [
        "##10) Demonstrate operator overloading by creating a class Vector and overriding the add method to add two vectors\n",
        "\n",
        "class vector:\n",
        "  def first(self):\n",
        "    print(\"first\")\n",
        "  def second(self,name):\n",
        "    print(\"second\",name)\n",
        "  def third(self,name,Mob):\n",
        "    print(\"trid\",name,Mob)\n",
        "class child(vector):\n",
        "  def child_first(self):\n",
        "    print(\"child first\")"
      ],
      "metadata": {
        "id": "ctVIAbb7XM3A"
      },
      "execution_count": null,
      "outputs": []
    },
    {
      "cell_type": "code",
      "source": [
        "v1 = child()\n",
        "v1.third(\"santosh\",\"8600810765\")"
      ],
      "metadata": {
        "colab": {
          "base_uri": "https://localhost:8080/"
        },
        "id": "XjkFbT6dZqyi",
        "outputId": "402262b7-5cbd-449f-eb6f-b6318c4d38c7"
      },
      "execution_count": null,
      "outputs": [
        {
          "output_type": "stream",
          "name": "stdout",
          "text": [
            "trid santosh 8600810765\n"
          ]
        }
      ]
    },
    {
      "cell_type": "code",
      "source": [
        "v1.child_first()"
      ],
      "metadata": {
        "colab": {
          "base_uri": "https://localhost:8080/"
        },
        "id": "A-UWBJbRaJaJ",
        "outputId": "404f57c2-96fb-4610-c830-7279058cca61"
      },
      "execution_count": null,
      "outputs": [
        {
          "output_type": "stream",
          "name": "stdout",
          "text": [
            "child first\n"
          ]
        }
      ]
    },
    {
      "cell_type": "code",
      "source": [
        "from typing_extensions import AsyncGenerator\n",
        "from os import name\n",
        "### 11) Create a class Person with attributes name and age. Add a method greet() that prints \"Hello, my name is {name} and I am {age} years old.\"\n",
        "\n",
        "class Person:\n",
        "  def __init__(self,name,age):\n",
        "    self.name = name\n",
        "    self.age = age\n",
        "  def  greet(self):\n",
        "      print(f\"Hello, my name is {self.name} and I am {self.age} years old\")"
      ],
      "metadata": {
        "id": "JIOoojZDbb-R"
      },
      "execution_count": null,
      "outputs": []
    },
    {
      "cell_type": "code",
      "source": [
        "P1 = Person(\"santosh\",25)"
      ],
      "metadata": {
        "id": "tQNjFHq7cbLm"
      },
      "execution_count": null,
      "outputs": []
    },
    {
      "cell_type": "code",
      "source": [
        "P1.greet()"
      ],
      "metadata": {
        "colab": {
          "base_uri": "https://localhost:8080/"
        },
        "id": "HTpGgeVFclOt",
        "outputId": "fca7ff1c-7a3e-4dab-f350-51aeff909af4"
      },
      "execution_count": null,
      "outputs": [
        {
          "output_type": "stream",
          "name": "stdout",
          "text": [
            "Hello, my name is santosh and I am 25 years old\n"
          ]
        }
      ]
    },
    {
      "cell_type": "code",
      "source": [
        "## 12) Implement a class Student with attributes name and grades. Create a method average_grade() to compute the average of the grades.\n",
        "\n",
        "class Student:\n",
        "  def __init__(self,name,grades):\n",
        "    self.name = name\n",
        "    self.grades = grades\n",
        "  def average_grade(self):\n",
        "    return sum(self.grades)/len(self.grades)\n"
      ],
      "metadata": {
        "id": "8PHVEaOqctxb"
      },
      "execution_count": null,
      "outputs": []
    },
    {
      "cell_type": "code",
      "source": [
        "stud = Student(\"santosh\",[59,70,50,60,90])\n",
        "stud.average_grade()"
      ],
      "metadata": {
        "colab": {
          "base_uri": "https://localhost:8080/"
        },
        "id": "Hl2aKMu2e1v1",
        "outputId": "a3675b2d-5d2d-4367-867b-8e9efa688c0e"
      },
      "execution_count": null,
      "outputs": [
        {
          "output_type": "execute_result",
          "data": {
            "text/plain": [
              "65.8"
            ]
          },
          "metadata": {},
          "execution_count": 47
        }
      ]
    },
    {
      "cell_type": "code",
      "source": [
        "## 13) 13. Create a class Rectangle with methods set_dimensions() to set the dimensions and area() to calculate the area.\n",
        "\n"
      ],
      "metadata": {
        "id": "Wn_N6sBHfB9X"
      },
      "execution_count": null,
      "outputs": []
    },
    {
      "cell_type": "code",
      "source": [
        "### 14) Create a class Employee with a method calculate_salary() that computes the salary based on hours worked and hourly rate. Create a derived class Manager that adds a bonus to the salary\n",
        "\n",
        "class employee:\n",
        "  def __init__(self,name,hours_worked,hourly_rate):\n",
        "    self.name = name\n",
        "    self.hours_worked = hours_worked\n",
        "    self.hourly_rate = hourly_rate\n",
        "  def calculate_salary(self):\n",
        "    self.salary = self.hours_worked * self.hourly_rate\n",
        "    return self.salary\n",
        "class manager(employee):\n",
        "  def __init__(self,name,hours_worked,hourly_rate,bonus):\n",
        "    super().__init__(name,hours_worked,hourly_rate)\n",
        "    self.bonus = bonus\n",
        "  def calculate_salary(self):\n",
        "    self.salary = self.hours_worked * self.hourly_rate + self.bonus\n",
        "    return self.salary\n",
        "\n",
        ""
      ],
      "metadata": {
        "id": "EidyXBvzixNX"
      },
      "execution_count": 1,
      "outputs": []
    },
    {
      "cell_type": "code",
      "source": [
        "\n",
        "a1 = manager(\"santosh\",10,100,1000)\n",
        "a1.calculate_salary()"
      ],
      "metadata": {
        "colab": {
          "base_uri": "https://localhost:8080/"
        },
        "id": "aMIuTjTWloVC",
        "outputId": "0c23cf4b-e25d-4bf1-a581-c4e937118c0d"
      },
      "execution_count": 2,
      "outputs": [
        {
          "output_type": "execute_result",
          "data": {
            "text/plain": [
              "2000"
            ]
          },
          "metadata": {},
          "execution_count": 2
        }
      ]
    },
    {
      "cell_type": "code",
      "source": [
        "### 15) Create a class Product with attributes name, price, and quantity. Implement a method total_price() that calculates the total price of the product.\n",
        "\n",
        "class Product:\n",
        "  def __init__(self,name,price,quantity):\n",
        "    self.name = name\n",
        "    self.price =  price\n",
        "    self.quantity = quantity\n",
        "  def total_price(self):\n",
        "    return self.price * self.quantity"
      ],
      "metadata": {
        "id": "FsBso778l0v8"
      },
      "execution_count": 6,
      "outputs": []
    },
    {
      "cell_type": "code",
      "source": [
        "d1 = Product(\"santosh\",1000,10)\n",
        "d1.total_price()\n"
      ],
      "metadata": {
        "colab": {
          "base_uri": "https://localhost:8080/"
        },
        "id": "J4Cfvd2qmiJ9",
        "outputId": "dc1622bf-30ee-43ad-fa9b-3757a06c6425"
      },
      "execution_count": 7,
      "outputs": [
        {
          "output_type": "execute_result",
          "data": {
            "text/plain": [
              "10000"
            ]
          },
          "metadata": {},
          "execution_count": 7
        }
      ]
    },
    {
      "cell_type": "code",
      "source": [
        "### 16) Create a class Animal with an abstract method sound(). Create two derived classes Cow and Sheep that implement the sound() method.\n",
        "\n",
        "class animal:\n",
        "  def sound(self):\n",
        "    pass\n",
        "class cow(animal):\n",
        "  def cow_sound (self):\n",
        "    print(\"moo\")\n",
        "\n",
        "class sheep(animal):\n",
        "  def sheep_sound (self):\n",
        "    print(\"baa\")\n",
        "\n",
        "\n",
        "\n"
      ],
      "metadata": {
        "id": "35PVLAwhm4cO"
      },
      "execution_count": 15,
      "outputs": []
    },
    {
      "cell_type": "code",
      "source": [
        "c1 =  sheep ()\n",
        "c1.sheep_sound()"
      ],
      "metadata": {
        "colab": {
          "base_uri": "https://localhost:8080/"
        },
        "id": "H4NACHlbnp13",
        "outputId": "9ba06efc-76df-43df-c64b-c1b339b9479e"
      },
      "execution_count": 18,
      "outputs": [
        {
          "output_type": "stream",
          "name": "stdout",
          "text": [
            "baa\n"
          ]
        }
      ]
    },
    {
      "cell_type": "code",
      "source": [
        "c1 = cow()\n",
        "c1.cow_sound()"
      ],
      "metadata": {
        "colab": {
          "base_uri": "https://localhost:8080/"
        },
        "id": "KaDjRWM6oXEv",
        "outputId": "00554416-fc56-4ac4-dfb7-3d250e7bf885"
      },
      "execution_count": 19,
      "outputs": [
        {
          "output_type": "stream",
          "name": "stdout",
          "text": [
            "moo\n"
          ]
        }
      ]
    },
    {
      "cell_type": "code",
      "source": [
        "### 17) Create a class Book with attributes title, author, and year_published. Add a method get_book_info() that returns a formatted string with the book's details\n",
        "\n",
        "class Book:\n",
        "  def __init__(self,tital,author,year_published):\n",
        "    self.tital = tital\n",
        "    self.author = author\n",
        "    self.year_published = year_published\n",
        "  def get_book_info(self):\n",
        "    return f\"tital : {self.tital}, author : {self.author}, year_published : {self.year_published}\""
      ],
      "metadata": {
        "id": "ZJYWl9DZo1q2"
      },
      "execution_count": 20,
      "outputs": []
    },
    {
      "cell_type": "code",
      "source": [
        "c2  = Book(\"santosh\",\"sandip\",\"2023\")\n",
        "c2.get_book_info()"
      ],
      "metadata": {
        "colab": {
          "base_uri": "https://localhost:8080/",
          "height": 35
        },
        "id": "UZ4NzINFqBQ7",
        "outputId": "d1ea9fb9-6b19-4029-ce31-45dbff97ad45"
      },
      "execution_count": 21,
      "outputs": [
        {
          "output_type": "execute_result",
          "data": {
            "text/plain": [
              "'tital : santosh, author : sandip, year_published : 2023'"
            ],
            "application/vnd.google.colaboratory.intrinsic+json": {
              "type": "string"
            }
          },
          "metadata": {},
          "execution_count": 21
        }
      ]
    },
    {
      "cell_type": "code",
      "source": [
        "### 18 )  Create a class House with attributes address and price. Create a derived class Mansion that adds an attribute number_of_rooms\n",
        "\n",
        "class House:\n",
        "  def __init__(self,address,price):\n",
        "    self.address = address\n",
        "    self.price  = price\n",
        "  def get_address(self):\n",
        "    return self.address\n",
        "  def get_price(self):\n",
        "    return self.price\n",
        "class Mansion(House):\n",
        "  def __init__(self,address,price,number_of_rooms):\n",
        "    super().__init__(address,price)\n",
        "    self.number_of_rooms = number_of_rooms\n",
        "  def get_room_no(self):\n",
        "    return self.number_of_rooms"
      ],
      "metadata": {
        "id": "FhH4Bi7kqOEE"
      },
      "execution_count": 39,
      "outputs": []
    },
    {
      "cell_type": "code",
      "source": [
        "h1 =  Mansion(\"mumbai\",4000000,10)"
      ],
      "metadata": {
        "id": "KHeWl26UsEQw"
      },
      "execution_count": 45,
      "outputs": []
    },
    {
      "cell_type": "code",
      "source": [
        "h1.get_room_no()"
      ],
      "metadata": {
        "colab": {
          "base_uri": "https://localhost:8080/"
        },
        "id": "Tx1MkQf7saG6",
        "outputId": "72b4f4fe-5f59-4d66-8265-8ed7ed5875c9"
      },
      "execution_count": 46,
      "outputs": [
        {
          "output_type": "execute_result",
          "data": {
            "text/plain": [
              "10"
            ]
          },
          "metadata": {},
          "execution_count": 46
        }
      ]
    },
    {
      "cell_type": "code",
      "source": [
        "h1.get_address()"
      ],
      "metadata": {
        "colab": {
          "base_uri": "https://localhost:8080/",
          "height": 35
        },
        "id": "-2XdixnXsdb0",
        "outputId": "8b5cae14-956c-45e3-ff2c-fee2994b1455"
      },
      "execution_count": 47,
      "outputs": [
        {
          "output_type": "execute_result",
          "data": {
            "text/plain": [
              "'mumbai'"
            ],
            "application/vnd.google.colaboratory.intrinsic+json": {
              "type": "string"
            }
          },
          "metadata": {},
          "execution_count": 47
        }
      ]
    },
    {
      "cell_type": "code",
      "source": [
        "h1.get_price()"
      ],
      "metadata": {
        "colab": {
          "base_uri": "https://localhost:8080/"
        },
        "id": "0xLMnDRot2NB",
        "outputId": "76355b03-7b8f-417f-869b-a735e64b502a"
      },
      "execution_count": 48,
      "outputs": [
        {
          "output_type": "execute_result",
          "data": {
            "text/plain": [
              "4000000"
            ]
          },
          "metadata": {},
          "execution_count": 48
        }
      ]
    },
    {
      "cell_type": "code",
      "source": [],
      "metadata": {
        "id": "S_urBgngt_gD"
      },
      "execution_count": null,
      "outputs": []
    }
  ]
}