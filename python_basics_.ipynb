{
  "nbformat": 4,
  "nbformat_minor": 0,
  "metadata": {
    "colab": {
      "provenance": []
    },
    "kernelspec": {
      "name": "python3",
      "display_name": "Python 3"
    },
    "language_info": {
      "name": "python"
    }
  },
  "cells": [
    {
      "cell_type": "code",
      "execution_count": null,
      "metadata": {
        "id": "pSmOSS0USIUK",
        "colab": {
          "base_uri": "https://localhost:8080/"
        },
        "outputId": "874310c6-2f9b-4f24-be53-4ca3f7d11b91"
      },
      "outputs": [
        {
          "output_type": "stream",
          "name": "stdout",
          "text": [
            "=1000\n"
          ]
        }
      ],
      "source": [
        "''' Python basics questions\n",
        "1) What is Python, and why is it popular?\n",
        ">> Python is a programming language. nad it's easy to write and read\n",
        "\n",
        "2)What is an interpreter in Python?\n",
        ">> python code translate into machinereadable and execute it line by line\n",
        "    when run the python program the interpreter read the code and excute the code line by line insted of the full programe in one go.\n",
        "\n",
        "3)   What are pre-defined keywords in Python?\n",
        ">>  Python have pre-defined words and have special mening for the same 'keyword' :- if, else, false and true.\n",
        "    keywords can't use as a identifiers.\n",
        "\n",
        "4) Can keywords be used as variable names?\n",
        ">> in the python programming should not use keywords as a verials.\n",
        "\n",
        "5) What is mutability in Python?\n",
        ">> in python object can be modify after the creation. dictionery and list are examples of mutable object\n",
        "\n",
        "6) Why are lists mutable, but tuples are immutable?\n",
        ">> we can modify the list but tuples are not.\n",
        "\n",
        "7)What is the difference between “==” and “is” operators in Python?\n",
        ">> \"==\" is a comparison operator and showing value of obectes are equal but \"is\" a asingning operatore .\n",
        "\n",
        "8) What are logical operators in Python?\n",
        ">>  logical operators are following :- \"and, or ,not\"\n",
        "\n",
        "9)What is type casting in Python.\n",
        ">>  type casting also refer as type conversion in the process of changing the data one to another type.\n",
        "    Type casting is bassically conversion of data type.\n",
        "\n",
        "10)   What is the difference between implicit and explicit type casting ?\n",
        ">>>> Python undersand the data type it's called as implecit data type and we can covert one data type to another type using inbuilt function\n",
        "\n",
        "11) What is the purpose of conditional statements in Python?\n",
        ">>> during the programming/ daily routine we have multipale condition for that time conditinal statement is usefull to output.\n",
        "\n",
        "12) How does the elif statement work?\n",
        ">>>>> elif usege if have more then 2 conditions. for Exa.'''\n",
        "ramesh = 1000\n",
        "if ramesh  >1000:\n",
        "  print(\">1000\")\n",
        "elif ramesh < 1000:\n",
        "  print (\"<1000\")\n",
        "else:\n",
        "  print(\"=1000\")\n",
        "\n"
      ]
    },
    {
      "cell_type": "code",
      "source": [
        "'''13)  What is the difference between for and while loops?\n",
        ">>>> For loop :- basically for loop used for repeat(iterating) the sequence of elements.\n",
        ">>>>> while loop :- while loop used for executing code untill condition is met.\n",
        "\n",
        "14) Describe a scenario where a while loop is more suitable than a for loop\n",
        ">> following scenario while loop is more suitalble than for loop\n",
        "n=7\n",
        "i = 1\n",
        " in this scenarion need execute the code untill code condition is met.\n",
        " if code wanted to run till i = 7 then neet to use while loop in this condition.once i = 7 that time contion is met.\n",
        "  and provide output like 1,2,3,4,5,6'''\n",
        "\n",
        "\n",
        " #Practical Questions\n",
        "\n",
        "# 1) Write a Python program to print \"Hello, World!_\n",
        "\n",
        "print(\"hello, World\")\n",
        "\n"
      ],
      "metadata": {
        "colab": {
          "base_uri": "https://localhost:8080/"
        },
        "id": "jFISlYoNSw2g",
        "outputId": "9c589168-4334-4ba1-bbf4-e26de3502a30"
      },
      "execution_count": null,
      "outputs": [
        {
          "output_type": "stream",
          "name": "stdout",
          "text": [
            "hello, World\n"
          ]
        }
      ]
    },
    {
      "cell_type": "code",
      "source": [
        "# 2)Write a Python program that displays your name and age.\n",
        "\n",
        "name = \"santosh\"\n",
        "age = 29\n",
        "\n",
        "print(f\"I am {name} and age is { age}\")"
      ],
      "metadata": {
        "colab": {
          "base_uri": "https://localhost:8080/"
        },
        "id": "appv90FBbL2t",
        "outputId": "fecdd802-f393-472b-f040-0896bb63766e"
      },
      "execution_count": null,
      "outputs": [
        {
          "output_type": "stream",
          "name": "stdout",
          "text": [
            "I am santosh and age is 29\n"
          ]
        }
      ]
    },
    {
      "cell_type": "code",
      "source": [
        "from keyword import kwlist\n",
        "# 3)  Write code to print all the pre-defined keywords in Python using the keyword library\n",
        "\n",
        "print(kwlist)"
      ],
      "metadata": {
        "colab": {
          "base_uri": "https://localhost:8080/"
        },
        "id": "zfBwGO1CcNWD",
        "outputId": "bc23e465-0b36-44cd-fdf1-d95f1ef0d7e8"
      },
      "execution_count": null,
      "outputs": [
        {
          "output_type": "stream",
          "name": "stdout",
          "text": [
            "['False', 'None', 'True', 'and', 'as', 'assert', 'async', 'await', 'break', 'class', 'continue', 'def', 'del', 'elif', 'else', 'except', 'finally', 'for', 'from', 'global', 'if', 'import', 'in', 'is', 'lambda', 'nonlocal', 'not', 'or', 'pass', 'raise', 'return', 'try', 'while', 'with', 'yield']\n"
          ]
        }
      ]
    },
    {
      "cell_type": "code",
      "source": [
        "from ast import keyword\n",
        "# 4) Write a program that checks if a given word is a Python keyword.\n",
        "\n"
      ],
      "metadata": {
        "colab": {
          "base_uri": "https://localhost:8080/",
          "height": 106
        },
        "id": "PJ0IBIPsfPOw",
        "outputId": "ec993a6e-6704-4337-88e4-31f022adb5ad"
      },
      "execution_count": null,
      "outputs": [
        {
          "output_type": "error",
          "ename": "SyntaxError",
          "evalue": "invalid syntax (<ipython-input-39-c782d4d30082>, line 4)",
          "traceback": [
            "\u001b[0;36m  File \u001b[0;32m\"<ipython-input-39-c782d4d30082>\"\u001b[0;36m, line \u001b[0;32m4\u001b[0m\n\u001b[0;31m    is in keyword.kwlist\u001b[0m\n\u001b[0m    ^\u001b[0m\n\u001b[0;31mSyntaxError\u001b[0m\u001b[0;31m:\u001b[0m invalid syntax\n"
          ]
        }
      ]
    },
    {
      "cell_type": "code",
      "source": [
        "\n",
        "  # 5)Create a list and tuple in Python, and demonstrate how attempting to change an element works differently  for each.\n",
        "a =  [\"santosh\", \"samir\", \"tuple\",1,2,3,5,68]\n",
        "a [0] = \"shinde\"\n",
        "a\n"
      ],
      "metadata": {
        "id": "lJHqHUy_h2mx",
        "colab": {
          "base_uri": "https://localhost:8080/"
        },
        "outputId": "eba245a0-aede-4842-ce17-335dbf562ffd"
      },
      "execution_count": null,
      "outputs": [
        {
          "output_type": "execute_result",
          "data": {
            "text/plain": [
              "['shinde', 'samir', 'tuple', 1, 2, 3, 5, 68]"
            ]
          },
          "metadata": {},
          "execution_count": 2
        }
      ]
    },
    {
      "cell_type": "code",
      "source": [
        "a[1] = 123\n",
        "a"
      ],
      "metadata": {
        "colab": {
          "base_uri": "https://localhost:8080/"
        },
        "id": "5ah8rAv5TahD",
        "outputId": "c48b5aca-023a-4b86-ac78-c6d6bd6fd3a8"
      },
      "execution_count": null,
      "outputs": [
        {
          "output_type": "execute_result",
          "data": {
            "text/plain": [
              "['shinde', 123, 'tuple', 1, 2, 3, 5, 68]"
            ]
          },
          "metadata": {},
          "execution_count": 3
        }
      ]
    },
    {
      "cell_type": "code",
      "source": [
        "a[-1] = \"santy\"\n",
        "a"
      ],
      "metadata": {
        "colab": {
          "base_uri": "https://localhost:8080/"
        },
        "id": "FNef0qczTuAN",
        "outputId": "ba18663f-200c-4b8f-feef-963d5f86b8e6"
      },
      "execution_count": null,
      "outputs": [
        {
          "output_type": "execute_result",
          "data": {
            "text/plain": [
              "['shinde', 123, 'tuple', 1, 2, 3, 5, 'santy']"
            ]
          },
          "metadata": {},
          "execution_count": 4
        }
      ]
    },
    {
      "cell_type": "code",
      "source": [
        "san = (\"shinde\", \"santosh\", \"samir\", \"tuple\",1,2,3,5,68)\n",
        "type (san)\n",
        "\n",
        "san (-1) = \"santy\"\n",
        "san"
      ],
      "metadata": {
        "colab": {
          "base_uri": "https://localhost:8080/",
          "height": 106
        },
        "id": "3kljB0lAVIMA",
        "outputId": "c8846e07-bb90-4b9a-8b1f-064a7f6327d3"
      },
      "execution_count": null,
      "outputs": [
        {
          "output_type": "error",
          "ename": "SyntaxError",
          "evalue": "cannot assign to function call here. Maybe you meant '==' instead of '='? (<ipython-input-9-a66cd3de5d28>, line 4)",
          "traceback": [
            "\u001b[0;36m  File \u001b[0;32m\"<ipython-input-9-a66cd3de5d28>\"\u001b[0;36m, line \u001b[0;32m4\u001b[0m\n\u001b[0;31m    san (-1) = \"santy\"\u001b[0m\n\u001b[0m    ^\u001b[0m\n\u001b[0;31mSyntaxError\u001b[0m\u001b[0;31m:\u001b[0m cannot assign to function call here. Maybe you meant '==' instead of '='?\n"
          ]
        }
      ]
    },
    {
      "cell_type": "code",
      "source": [
        "# 6) Write a function to demonstrate the behavior of mutable and immutable arguments?\n",
        "lis = [\"tomato\", \"apple\", \"orange\", \"banana\", 3.5,8,]\n",
        "# mutable\n",
        "lis [3] = \"banty\"\n",
        "lis"
      ],
      "metadata": {
        "colab": {
          "base_uri": "https://localhost:8080/"
        },
        "id": "sAzFNOpcT0fn",
        "outputId": "c42a6332-ebcd-4de8-fcbc-88fb3eba7a69"
      },
      "execution_count": null,
      "outputs": [
        {
          "output_type": "execute_result",
          "data": {
            "text/plain": [
              "['tomato', 'apple', 'orange', 'banty', 3.5, 8]"
            ]
          },
          "metadata": {},
          "execution_count": 11
        }
      ]
    },
    {
      "cell_type": "code",
      "source": [
        "# immutable\n",
        "grocery = ( \"sugar\"\", \"peanut\" \"tea poweder\",\"backing soda\",1,3.6 )\n",
        "\n",
        "grocery(-1) = \"nuts\"\n",
        "grocery"
      ],
      "metadata": {
        "colab": {
          "base_uri": "https://localhost:8080/",
          "height": 106
        },
        "id": "FJAtiIu_WsFs",
        "outputId": "6dd28e2d-5169-4657-ddd1-b8289e53fd1b"
      },
      "execution_count": null,
      "outputs": [
        {
          "output_type": "error",
          "ename": "SyntaxError",
          "evalue": "unterminated string literal (detected at line 2) (<ipython-input-13-cd0d7bb304d2>, line 2)",
          "traceback": [
            "\u001b[0;36m  File \u001b[0;32m\"<ipython-input-13-cd0d7bb304d2>\"\u001b[0;36m, line \u001b[0;32m2\u001b[0m\n\u001b[0;31m    grocery = ( \"sugar\"\", \"peanut\" \"tea poweder\",\"backing soda\",1,3.6 )\u001b[0m\n\u001b[0m                                                              ^\u001b[0m\n\u001b[0;31mSyntaxError\u001b[0m\u001b[0;31m:\u001b[0m unterminated string literal (detected at line 2)\n"
          ]
        }
      ]
    },
    {
      "cell_type": "code",
      "source": [
        "# 8) Write a program to demonstrate the use of logical operators?\n",
        "a = 10\n",
        "b = 5\n",
        "\n",
        "a >= 10 and b>=5\n",
        "\n"
      ],
      "metadata": {
        "colab": {
          "base_uri": "https://localhost:8080/"
        },
        "id": "NTrhlJa2X0fd",
        "outputId": "9a3c15b2-fb47-4b10-b1c7-64d14d08f92f"
      },
      "execution_count": null,
      "outputs": [
        {
          "output_type": "execute_result",
          "data": {
            "text/plain": [
              "True"
            ]
          },
          "metadata": {},
          "execution_count": 21
        }
      ]
    },
    {
      "cell_type": "code",
      "source": [
        "a<10 and b<=5"
      ],
      "metadata": {
        "colab": {
          "base_uri": "https://localhost:8080/"
        },
        "id": "BJozm1hiZfOa",
        "outputId": "8405bc93-40cf-4dda-bf45-e37b8634e502"
      },
      "execution_count": null,
      "outputs": [
        {
          "output_type": "execute_result",
          "data": {
            "text/plain": [
              "False"
            ]
          },
          "metadata": {},
          "execution_count": 22
        }
      ]
    },
    {
      "cell_type": "code",
      "source": [
        "samir = 100\n",
        "santosh = 20\n",
        "samir >= 100 or santosh > 20"
      ],
      "metadata": {
        "colab": {
          "base_uri": "https://localhost:8080/"
        },
        "id": "dxGPfX5ybb8V",
        "outputId": "9a2a583d-0e0c-4028-9674-7085e3f6e443"
      },
      "execution_count": null,
      "outputs": [
        {
          "output_type": "execute_result",
          "data": {
            "text/plain": [
              "True"
            ]
          },
          "metadata": {},
          "execution_count": 23
        }
      ]
    },
    {
      "cell_type": "code",
      "source": [
        "samir <100 or santosh >20"
      ],
      "metadata": {
        "colab": {
          "base_uri": "https://localhost:8080/"
        },
        "id": "ipF-aHlsbnZn",
        "outputId": "f7f3a951-5667-4dd5-96f2-1e1cb90b36d7"
      },
      "execution_count": null,
      "outputs": [
        {
          "output_type": "execute_result",
          "data": {
            "text/plain": [
              "False"
            ]
          },
          "metadata": {},
          "execution_count": 24
        }
      ]
    },
    {
      "cell_type": "code",
      "source": [
        "# 9) Write a Python program to convert user input from string to integer, float, and boolean types\n",
        "\n",
        "b= int (input (\"enter a number  \"))\n",
        "print (b)\n",
        "type(b)\n",
        "\n"
      ],
      "metadata": {
        "colab": {
          "base_uri": "https://localhost:8080/"
        },
        "id": "xaCkjQIBbvTs",
        "outputId": "c90f16be-1111-4c27-fd07-6dc87d3ebef9"
      },
      "execution_count": null,
      "outputs": [
        {
          "output_type": "stream",
          "name": "stdout",
          "text": [
            "enter a number  10\n",
            "10\n"
          ]
        },
        {
          "output_type": "execute_result",
          "data": {
            "text/plain": [
              "int"
            ]
          },
          "metadata": {},
          "execution_count": 30
        }
      ]
    },
    {
      "cell_type": "code",
      "source": [
        " B = float(input(\"enter mark\"))\n",
        " print(B)\n",
        " type(B)"
      ],
      "metadata": {
        "colab": {
          "base_uri": "https://localhost:8080/"
        },
        "id": "b0sODGyRdn0T",
        "outputId": "ed72d643-f7ef-42e6-f049-db667d6f0515"
      },
      "execution_count": null,
      "outputs": [
        {
          "output_type": "stream",
          "name": "stdout",
          "text": [
            "enter mark50\n",
            "50.0\n"
          ]
        },
        {
          "output_type": "execute_result",
          "data": {
            "text/plain": [
              "float"
            ]
          },
          "metadata": {},
          "execution_count": 31
        }
      ]
    },
    {
      "cell_type": "code",
      "source": [
        "samir = bool(input(\"write something   \"))\n",
        "print(samir)\n",
        "type(samir)"
      ],
      "metadata": {
        "colab": {
          "base_uri": "https://localhost:8080/"
        },
        "id": "dWPCUQb3ecNe",
        "outputId": "f10fc417-c716-45ef-b3a3-2e3400148f6f"
      },
      "execution_count": null,
      "outputs": [
        {
          "output_type": "stream",
          "name": "stdout",
          "text": [
            "write something   hio7\n",
            "True\n"
          ]
        },
        {
          "output_type": "execute_result",
          "data": {
            "text/plain": [
              "bool"
            ]
          },
          "metadata": {},
          "execution_count": 33
        }
      ]
    },
    {
      "cell_type": "code",
      "source": [
        "# 10) Write code to demonstrate type casting with list elements?\n",
        "\n",
        "a = [\"samir\",\"santosh\", 1,4,4.5,True]\n",
        "type (a)"
      ],
      "metadata": {
        "colab": {
          "base_uri": "https://localhost:8080/"
        },
        "id": "1hbKpqg9exn4",
        "outputId": "3b32f296-b38a-4bb1-b0ad-bd32b7648e4d"
      },
      "execution_count": null,
      "outputs": [
        {
          "output_type": "execute_result",
          "data": {
            "text/plain": [
              "list"
            ]
          },
          "metadata": {},
          "execution_count": 34
        }
      ]
    },
    {
      "cell_type": "code",
      "source": [
        "b= tuple(a)\n",
        "type (b)\n",
        "print(b)"
      ],
      "metadata": {
        "colab": {
          "base_uri": "https://localhost:8080/"
        },
        "id": "w3IeKyK7gE3a",
        "outputId": "2319758f-6d7d-453c-bccb-a509356ffdc4"
      },
      "execution_count": null,
      "outputs": [
        {
          "output_type": "stream",
          "name": "stdout",
          "text": [
            "('samir', 'santosh', 1, 4, 4.5, True)\n"
          ]
        }
      ]
    },
    {
      "cell_type": "code",
      "source": [
        "# 11) Write a program that checks if a number is positive, negative, or zero?\n",
        "a = -1\n",
        "if a > 0:\n",
        "  print(\"positive\")\n",
        "elif a<0:\n",
        "  print(\"negative\")\n",
        "\n",
        "else:\n",
        "  print(\"zero\")\n",
        "\n"
      ],
      "metadata": {
        "colab": {
          "base_uri": "https://localhost:8080/"
        },
        "id": "umnSixFYgwC5",
        "outputId": "d29f6d0d-26d3-4634-cddf-93c77aabfb99"
      },
      "execution_count": null,
      "outputs": [
        {
          "output_type": "stream",
          "name": "stdout",
          "text": [
            "negative\n"
          ]
        }
      ]
    },
    {
      "cell_type": "code",
      "source": [
        " # 12) Write a for loop to print numbers from 1 to 10?\n",
        "\n",
        "for i in range(11):\n",
        "  print(i, end = \",\")"
      ],
      "metadata": {
        "colab": {
          "base_uri": "https://localhost:8080/"
        },
        "id": "J2cXpljQhnb2",
        "outputId": "4a08831f-c5b0-4d23-c334-5e3fd8809464"
      },
      "execution_count": null,
      "outputs": [
        {
          "output_type": "stream",
          "name": "stdout",
          "text": [
            "0,1,2,3,4,5,6,7,8,9,10,"
          ]
        }
      ]
    },
    {
      "cell_type": "code",
      "source": [
        "# 13) Write a Python program to find the sum of all even numbers between 1 and 50\n",
        "a = 50\n",
        "b =1\n",
        "sum = 0\n",
        "while (b < a):\n",
        "  if (b % 2 ==0):\n",
        "    sum+=b\n",
        "  b+=1\n",
        "print(sum)\n"
      ],
      "metadata": {
        "colab": {
          "base_uri": "https://localhost:8080/"
        },
        "id": "9rVoKZpxjezP",
        "outputId": "8bfd26af-e749-4763-fa82-df3436757f5e"
      },
      "execution_count": null,
      "outputs": [
        {
          "output_type": "stream",
          "name": "stdout",
          "text": [
            "600\n"
          ]
        }
      ]
    },
    {
      "cell_type": "code",
      "source": [
        "# 14) Write a program to reverse a string using a while loop?\n",
        "\n",
        "samir = 40\n",
        "ramesh = 0\n",
        "while(samir  > ramesh):\n",
        "  print(samir)\n",
        "  samir -=1\n"
      ],
      "metadata": {
        "id": "2EUupmVWlUdk",
        "colab": {
          "base_uri": "https://localhost:8080/"
        },
        "outputId": "360d73ff-7de4-41f3-b500-8a665e6317eb"
      },
      "execution_count": null,
      "outputs": [
        {
          "output_type": "stream",
          "name": "stdout",
          "text": [
            "40\n",
            "39\n",
            "38\n",
            "37\n",
            "36\n",
            "35\n",
            "34\n",
            "33\n",
            "32\n",
            "31\n",
            "30\n",
            "29\n",
            "28\n",
            "27\n",
            "26\n",
            "25\n",
            "24\n",
            "23\n",
            "22\n",
            "21\n",
            "20\n",
            "19\n",
            "18\n",
            "17\n",
            "16\n",
            "15\n",
            "14\n",
            "13\n",
            "12\n",
            "11\n",
            "10\n",
            "9\n",
            "8\n",
            "7\n",
            "6\n",
            "5\n",
            "4\n",
            "3\n",
            "2\n",
            "1\n"
          ]
        }
      ]
    },
    {
      "cell_type": "code",
      "source": [],
      "metadata": {
        "id": "3704jbA4o208"
      },
      "execution_count": null,
      "outputs": []
    }
  ]
}