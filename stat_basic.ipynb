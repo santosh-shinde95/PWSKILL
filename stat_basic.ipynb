{
  "nbformat": 4,
  "nbformat_minor": 0,
  "metadata": {
    "colab": {
      "provenance": []
    },
    "kernelspec": {
      "name": "python3",
      "display_name": "Python 3"
    },
    "language_info": {
      "name": "python"
    }
  },
  "cells": [
    {
      "cell_type": "code",
      "execution_count": null,
      "metadata": {
        "id": "hO5R1LM5hF40"
      },
      "outputs": [],
      "source": [
        "####assignment"
      ]
    },
    {
      "cell_type": "markdown",
      "source": [
        "1) 1. Explain the different types of data (qualitative and quantitative) and provide examples of each. Discuss\n",
        "nominal, ordinal, interval, and ratio scales.\n",
        "\n",
        "ans >> there are two type of data type i) qualitative data ii) quantitative.\n",
        "\n",
        "i) qualitative data :- there two type of qualitative data discrete and continouse.discrete data means whole no data and quantitative sdata means any value in a range as real no like height, waight, speed\n",
        "\n",
        "ii) quantitative data have teo type of quantitative data i) nominal ii) odinal\n",
        "\n",
        "in nominal data type there is no order  in  categorical data naturally for exa :- blood group colore gender like\n",
        "\n",
        "in odinal data there are RANKING MATTER\n"
      ],
      "metadata": {
        "id": "Io65oDXThje3"
      }
    },
    {
      "cell_type": "markdown",
      "source": [
        "2) What are the measures of central tendency, and when should you use each? Discuss the mean, median,\n",
        "and mode with examples and situations where each is appropriate.\n",
        "\n",
        "ans >> central tendency represent the ceter point of the dataset.\n",
        "in this can use mean median mode.\n",
        "\n",
        "Maen : - mean is bassically arithmetic value of dataset which use to fill\n",
        "median ;- median is physically mid point of data\n",
        "mode  ; - maximum number of frequency in data\n",
        "\n",
        "mean affected by outliers but median and mode not affrected by outliers"
      ],
      "metadata": {
        "id": "-dD6zrwwkwCk"
      }
    },
    {
      "cell_type": "markdown",
      "source": [
        "3) Explain the concept of dispersion. How do variance and standard deviation measure the spread of data?\n",
        "\n",
        "Ans >> Dispersion is the extent of variation of data around a central value or point. variance showing arithmetic mean value of the data.stander daviation measures of spread of the data"
      ],
      "metadata": {
        "id": "b2ydDavymssV"
      }
    },
    {
      "cell_type": "markdown",
      "source": [
        "4) What is a box plot, and what can it tell you about the distribution of data?\n",
        "\n",
        "Ans >> box plote is a statastical simple way of representing the data.  and box plote showing negative and possitive distribution"
      ],
      "metadata": {
        "id": "olfGM1SDnmfh"
      }
    },
    {
      "cell_type": "markdown",
      "source": [
        "5)  Discuss the role of random sampling in making inferences about populations.\n",
        "\n",
        "Ans >> inferances is a sampling method ans reandom sampling is one of them. randome sampling taking randomly sample in whole population and on basis of population showinhg result\n",
        "\n"
      ],
      "metadata": {
        "id": "V4lW4qz4nyXV"
      }
    },
    {
      "cell_type": "markdown",
      "source": [
        "\n",
        "\n",
        "6) Explain the concept of skewness and its types. How does skewness affect the interpretation of data?\n",
        "\n",
        "Ans>>  basically skewness means distribution of the data and having type of skewness same is accordingly\n",
        "i) no skewness >>> from the mode data distribute exactly left and right symmetricaly\n",
        "\n",
        "\n",
        "ii) right skewness / possitive\n",
        "     mopst of the data in the right side of the chart\n",
        "\n",
        "iii) LEFT SKNEWNESS / negative\n",
        "         most of the the data left side of the chart\n"
      ],
      "metadata": {
        "id": "gwuwgFI0n3tb"
      }
    },
    {
      "cell_type": "markdown",
      "source": [
        "7) What is the interquartile range (IQR), and how is it used to detect outliers?\n",
        "\n",
        "Ans>>  IQR use for how the spread of the data and identify the out lier if data outoff lower fence and upper fence the the data range affected by the outliers.\n",
        "\n",
        "\n"
      ],
      "metadata": {
        "id": "pN3xtJwYoBbc"
      }
    },
    {
      "cell_type": "markdown",
      "source": [
        "\n",
        "8) Discuss the conditions under which the binomial distribution is used.\n",
        "\n",
        "Ans >> iscrete probability distribution of the number of successes in a sequence of n independent experiments, each with success or failure probability"
      ],
      "metadata": {
        "id": "yzT54uuEoGfY"
      }
    },
    {
      "cell_type": "markdown",
      "source": [
        "9)  Explain the properties of the normal distribution and the empirical rule (68-95-99.7 rule).\n",
        "\n",
        "Ans >>   The normal distribution, a symmetric, bell-shaped curve that characterizes a wide range of natural events and statistical processes, is the foundation of this rule.\n",
        "the three-sigma rule or the 68-95-99 rule, is a basic idea in statistics that offers a simple and quick method of comprehending the distribution of data in a normal distribution.\n"
      ],
      "metadata": {
        "id": "j56KJV0ioNYu"
      }
    },
    {
      "cell_type": "markdown",
      "source": [
        "10)  Provide a real-life example of a Poisson process and calculate the probability for a specific event.\n",
        "\n",
        "Ans >> 1) NUMBER OF arriv al of the office\n",
        "2) uncertain event in the month\n",
        "\n"
      ],
      "metadata": {
        "id": "IPb71hX8oXve"
      }
    },
    {
      "cell_type": "markdown",
      "source": [
        "11)  Explain what a random variable is and differentiate between discrete and continuous random variables.\n",
        "\n",
        "\n",
        "Ans >> select randomly data. discrete variable use only whole number and integers descrete variable often represent count orcategory"
      ],
      "metadata": {
        "id": "hsMYNaj-odw-"
      }
    },
    {
      "cell_type": "markdown",
      "source": [
        "12)  Provide an example dataset, calculate both covariance and correlation, and interpret the results\n",
        "\n",
        "Ans >> Covariance measures how two variables change together indicating the direction of their linear relationship\n",
        "In covariance we find the relationship between variables but it doesn't find the strength of the relatio\n"
      ],
      "metadata": {
        "id": "Bcv3uKS8oo5a"
      }
    },
    {
      "cell_type": "code",
      "source": [],
      "metadata": {
        "id": "07SrI0ZwowJd"
      },
      "execution_count": null,
      "outputs": []
    }
  ]
}